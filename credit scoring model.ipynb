{
 "cells": [
  {
   "cell_type": "code",
   "execution_count": null,
   "id": "2f6c2278",
   "metadata": {},
   "outputs": [],
   "source": []
  },
  {
   "cell_type": "code",
   "execution_count": null,
   "id": "45a10a9b",
   "metadata": {},
   "outputs": [],
   "source": []
  },
  {
   "cell_type": "markdown",
   "id": "b0e44b83",
   "metadata": {},
   "source": [
    "# Importing libraries"
   ]
  },
  {
   "cell_type": "code",
   "execution_count": 1,
   "id": "6b168c70",
   "metadata": {},
   "outputs": [],
   "source": [
    "import numpy as np\n",
    "import pandas as pd\n",
    "import seaborn as sns\n",
    "import matplotlib.pyplot as plt\n",
    "\n",
    "\n",
    "from sklearn.model_selection import train_test_split\n",
    "from sklearn.feature_extraction import DictVectorizer\n",
    "from sklearn.tree import DecisionTreeClassifier, export_text\n",
    "from sklearn.metrics import roc_auc_score\n",
    "from sklearn.ensemble import RandomForestClassifier\n",
    "import xgboost as xgb\n",
    "%matplotlib inline\n",
    "\n"
   ]
  },
  {
   "cell_type": "markdown",
   "id": "b2611854",
   "metadata": {},
   "source": [
    "# Loading Data and preprocessing"
   ]
  },
  {
   "cell_type": "code",
   "execution_count": 2,
   "id": "58198396",
   "metadata": {},
   "outputs": [],
   "source": [
    "data=pd.read_csv('E:\\credit\\credit scoring\\CreditScoring.csv')"
   ]
  },
  {
   "cell_type": "code",
   "execution_count": 3,
   "id": "87107574",
   "metadata": {},
   "outputs": [
    {
     "data": {
      "text/html": [
       "<div>\n",
       "<style scoped>\n",
       "    .dataframe tbody tr th:only-of-type {\n",
       "        vertical-align: middle;\n",
       "    }\n",
       "\n",
       "    .dataframe tbody tr th {\n",
       "        vertical-align: top;\n",
       "    }\n",
       "\n",
       "    .dataframe thead th {\n",
       "        text-align: right;\n",
       "    }\n",
       "</style>\n",
       "<table border=\"1\" class=\"dataframe\">\n",
       "  <thead>\n",
       "    <tr style=\"text-align: right;\">\n",
       "      <th></th>\n",
       "      <th>Status</th>\n",
       "      <th>Seniority</th>\n",
       "      <th>Home</th>\n",
       "      <th>Time</th>\n",
       "      <th>Age</th>\n",
       "      <th>Marital</th>\n",
       "      <th>Records</th>\n",
       "      <th>Job</th>\n",
       "      <th>Expenses</th>\n",
       "      <th>Income</th>\n",
       "      <th>Assets</th>\n",
       "      <th>Debt</th>\n",
       "      <th>Amount</th>\n",
       "      <th>Price</th>\n",
       "    </tr>\n",
       "  </thead>\n",
       "  <tbody>\n",
       "    <tr>\n",
       "      <th>0</th>\n",
       "      <td>1</td>\n",
       "      <td>9</td>\n",
       "      <td>1</td>\n",
       "      <td>60</td>\n",
       "      <td>30</td>\n",
       "      <td>2</td>\n",
       "      <td>1</td>\n",
       "      <td>3</td>\n",
       "      <td>73</td>\n",
       "      <td>129</td>\n",
       "      <td>0</td>\n",
       "      <td>0</td>\n",
       "      <td>800</td>\n",
       "      <td>846</td>\n",
       "    </tr>\n",
       "    <tr>\n",
       "      <th>1</th>\n",
       "      <td>1</td>\n",
       "      <td>17</td>\n",
       "      <td>1</td>\n",
       "      <td>60</td>\n",
       "      <td>58</td>\n",
       "      <td>3</td>\n",
       "      <td>1</td>\n",
       "      <td>1</td>\n",
       "      <td>48</td>\n",
       "      <td>131</td>\n",
       "      <td>0</td>\n",
       "      <td>0</td>\n",
       "      <td>1000</td>\n",
       "      <td>1658</td>\n",
       "    </tr>\n",
       "    <tr>\n",
       "      <th>2</th>\n",
       "      <td>2</td>\n",
       "      <td>10</td>\n",
       "      <td>2</td>\n",
       "      <td>36</td>\n",
       "      <td>46</td>\n",
       "      <td>2</td>\n",
       "      <td>2</td>\n",
       "      <td>3</td>\n",
       "      <td>90</td>\n",
       "      <td>200</td>\n",
       "      <td>3000</td>\n",
       "      <td>0</td>\n",
       "      <td>2000</td>\n",
       "      <td>2985</td>\n",
       "    </tr>\n",
       "    <tr>\n",
       "      <th>3</th>\n",
       "      <td>1</td>\n",
       "      <td>0</td>\n",
       "      <td>1</td>\n",
       "      <td>60</td>\n",
       "      <td>24</td>\n",
       "      <td>1</td>\n",
       "      <td>1</td>\n",
       "      <td>1</td>\n",
       "      <td>63</td>\n",
       "      <td>182</td>\n",
       "      <td>2500</td>\n",
       "      <td>0</td>\n",
       "      <td>900</td>\n",
       "      <td>1325</td>\n",
       "    </tr>\n",
       "    <tr>\n",
       "      <th>4</th>\n",
       "      <td>1</td>\n",
       "      <td>0</td>\n",
       "      <td>1</td>\n",
       "      <td>36</td>\n",
       "      <td>26</td>\n",
       "      <td>1</td>\n",
       "      <td>1</td>\n",
       "      <td>1</td>\n",
       "      <td>46</td>\n",
       "      <td>107</td>\n",
       "      <td>0</td>\n",
       "      <td>0</td>\n",
       "      <td>310</td>\n",
       "      <td>910</td>\n",
       "    </tr>\n",
       "    <tr>\n",
       "      <th>...</th>\n",
       "      <td>...</td>\n",
       "      <td>...</td>\n",
       "      <td>...</td>\n",
       "      <td>...</td>\n",
       "      <td>...</td>\n",
       "      <td>...</td>\n",
       "      <td>...</td>\n",
       "      <td>...</td>\n",
       "      <td>...</td>\n",
       "      <td>...</td>\n",
       "      <td>...</td>\n",
       "      <td>...</td>\n",
       "      <td>...</td>\n",
       "      <td>...</td>\n",
       "    </tr>\n",
       "    <tr>\n",
       "      <th>4450</th>\n",
       "      <td>2</td>\n",
       "      <td>1</td>\n",
       "      <td>1</td>\n",
       "      <td>60</td>\n",
       "      <td>39</td>\n",
       "      <td>2</td>\n",
       "      <td>1</td>\n",
       "      <td>1</td>\n",
       "      <td>69</td>\n",
       "      <td>92</td>\n",
       "      <td>0</td>\n",
       "      <td>0</td>\n",
       "      <td>900</td>\n",
       "      <td>1020</td>\n",
       "    </tr>\n",
       "    <tr>\n",
       "      <th>4451</th>\n",
       "      <td>1</td>\n",
       "      <td>22</td>\n",
       "      <td>2</td>\n",
       "      <td>60</td>\n",
       "      <td>46</td>\n",
       "      <td>2</td>\n",
       "      <td>1</td>\n",
       "      <td>1</td>\n",
       "      <td>60</td>\n",
       "      <td>75</td>\n",
       "      <td>3000</td>\n",
       "      <td>600</td>\n",
       "      <td>950</td>\n",
       "      <td>1263</td>\n",
       "    </tr>\n",
       "    <tr>\n",
       "      <th>4452</th>\n",
       "      <td>2</td>\n",
       "      <td>0</td>\n",
       "      <td>2</td>\n",
       "      <td>24</td>\n",
       "      <td>37</td>\n",
       "      <td>2</td>\n",
       "      <td>1</td>\n",
       "      <td>2</td>\n",
       "      <td>60</td>\n",
       "      <td>90</td>\n",
       "      <td>3500</td>\n",
       "      <td>0</td>\n",
       "      <td>500</td>\n",
       "      <td>963</td>\n",
       "    </tr>\n",
       "    <tr>\n",
       "      <th>4453</th>\n",
       "      <td>1</td>\n",
       "      <td>0</td>\n",
       "      <td>1</td>\n",
       "      <td>48</td>\n",
       "      <td>23</td>\n",
       "      <td>1</td>\n",
       "      <td>1</td>\n",
       "      <td>3</td>\n",
       "      <td>49</td>\n",
       "      <td>140</td>\n",
       "      <td>0</td>\n",
       "      <td>0</td>\n",
       "      <td>550</td>\n",
       "      <td>550</td>\n",
       "    </tr>\n",
       "    <tr>\n",
       "      <th>4454</th>\n",
       "      <td>1</td>\n",
       "      <td>5</td>\n",
       "      <td>2</td>\n",
       "      <td>60</td>\n",
       "      <td>32</td>\n",
       "      <td>2</td>\n",
       "      <td>1</td>\n",
       "      <td>3</td>\n",
       "      <td>60</td>\n",
       "      <td>140</td>\n",
       "      <td>4000</td>\n",
       "      <td>1000</td>\n",
       "      <td>1350</td>\n",
       "      <td>1650</td>\n",
       "    </tr>\n",
       "  </tbody>\n",
       "</table>\n",
       "<p>4455 rows × 14 columns</p>\n",
       "</div>"
      ],
      "text/plain": [
       "      Status  Seniority  Home  Time  Age  Marital  Records  Job  Expenses  \\\n",
       "0          1          9     1    60   30        2        1    3        73   \n",
       "1          1         17     1    60   58        3        1    1        48   \n",
       "2          2         10     2    36   46        2        2    3        90   \n",
       "3          1          0     1    60   24        1        1    1        63   \n",
       "4          1          0     1    36   26        1        1    1        46   \n",
       "...      ...        ...   ...   ...  ...      ...      ...  ...       ...   \n",
       "4450       2          1     1    60   39        2        1    1        69   \n",
       "4451       1         22     2    60   46        2        1    1        60   \n",
       "4452       2          0     2    24   37        2        1    2        60   \n",
       "4453       1          0     1    48   23        1        1    3        49   \n",
       "4454       1          5     2    60   32        2        1    3        60   \n",
       "\n",
       "      Income  Assets  Debt  Amount  Price  \n",
       "0        129       0     0     800    846  \n",
       "1        131       0     0    1000   1658  \n",
       "2        200    3000     0    2000   2985  \n",
       "3        182    2500     0     900   1325  \n",
       "4        107       0     0     310    910  \n",
       "...      ...     ...   ...     ...    ...  \n",
       "4450      92       0     0     900   1020  \n",
       "4451      75    3000   600     950   1263  \n",
       "4452      90    3500     0     500    963  \n",
       "4453     140       0     0     550    550  \n",
       "4454     140    4000  1000    1350   1650  \n",
       "\n",
       "[4455 rows x 14 columns]"
      ]
     },
     "execution_count": 3,
     "metadata": {},
     "output_type": "execute_result"
    }
   ],
   "source": [
    "data"
   ]
  },
  {
   "cell_type": "code",
   "execution_count": 4,
   "id": "ff4c7ecc",
   "metadata": {},
   "outputs": [],
   "source": [
    "data.columns = data.columns.str.lower()"
   ]
  },
  {
   "cell_type": "code",
   "execution_count": 5,
   "id": "961160ed",
   "metadata": {},
   "outputs": [
    {
     "data": {
      "text/html": [
       "<div>\n",
       "<style scoped>\n",
       "    .dataframe tbody tr th:only-of-type {\n",
       "        vertical-align: middle;\n",
       "    }\n",
       "\n",
       "    .dataframe tbody tr th {\n",
       "        vertical-align: top;\n",
       "    }\n",
       "\n",
       "    .dataframe thead th {\n",
       "        text-align: right;\n",
       "    }\n",
       "</style>\n",
       "<table border=\"1\" class=\"dataframe\">\n",
       "  <thead>\n",
       "    <tr style=\"text-align: right;\">\n",
       "      <th></th>\n",
       "      <th>status</th>\n",
       "      <th>seniority</th>\n",
       "      <th>home</th>\n",
       "      <th>time</th>\n",
       "      <th>age</th>\n",
       "      <th>marital</th>\n",
       "      <th>records</th>\n",
       "      <th>job</th>\n",
       "      <th>expenses</th>\n",
       "      <th>income</th>\n",
       "      <th>assets</th>\n",
       "      <th>debt</th>\n",
       "      <th>amount</th>\n",
       "      <th>price</th>\n",
       "    </tr>\n",
       "  </thead>\n",
       "  <tbody>\n",
       "    <tr>\n",
       "      <th>0</th>\n",
       "      <td>1</td>\n",
       "      <td>9</td>\n",
       "      <td>1</td>\n",
       "      <td>60</td>\n",
       "      <td>30</td>\n",
       "      <td>2</td>\n",
       "      <td>1</td>\n",
       "      <td>3</td>\n",
       "      <td>73</td>\n",
       "      <td>129</td>\n",
       "      <td>0</td>\n",
       "      <td>0</td>\n",
       "      <td>800</td>\n",
       "      <td>846</td>\n",
       "    </tr>\n",
       "    <tr>\n",
       "      <th>1</th>\n",
       "      <td>1</td>\n",
       "      <td>17</td>\n",
       "      <td>1</td>\n",
       "      <td>60</td>\n",
       "      <td>58</td>\n",
       "      <td>3</td>\n",
       "      <td>1</td>\n",
       "      <td>1</td>\n",
       "      <td>48</td>\n",
       "      <td>131</td>\n",
       "      <td>0</td>\n",
       "      <td>0</td>\n",
       "      <td>1000</td>\n",
       "      <td>1658</td>\n",
       "    </tr>\n",
       "    <tr>\n",
       "      <th>2</th>\n",
       "      <td>2</td>\n",
       "      <td>10</td>\n",
       "      <td>2</td>\n",
       "      <td>36</td>\n",
       "      <td>46</td>\n",
       "      <td>2</td>\n",
       "      <td>2</td>\n",
       "      <td>3</td>\n",
       "      <td>90</td>\n",
       "      <td>200</td>\n",
       "      <td>3000</td>\n",
       "      <td>0</td>\n",
       "      <td>2000</td>\n",
       "      <td>2985</td>\n",
       "    </tr>\n",
       "    <tr>\n",
       "      <th>3</th>\n",
       "      <td>1</td>\n",
       "      <td>0</td>\n",
       "      <td>1</td>\n",
       "      <td>60</td>\n",
       "      <td>24</td>\n",
       "      <td>1</td>\n",
       "      <td>1</td>\n",
       "      <td>1</td>\n",
       "      <td>63</td>\n",
       "      <td>182</td>\n",
       "      <td>2500</td>\n",
       "      <td>0</td>\n",
       "      <td>900</td>\n",
       "      <td>1325</td>\n",
       "    </tr>\n",
       "    <tr>\n",
       "      <th>4</th>\n",
       "      <td>1</td>\n",
       "      <td>0</td>\n",
       "      <td>1</td>\n",
       "      <td>36</td>\n",
       "      <td>26</td>\n",
       "      <td>1</td>\n",
       "      <td>1</td>\n",
       "      <td>1</td>\n",
       "      <td>46</td>\n",
       "      <td>107</td>\n",
       "      <td>0</td>\n",
       "      <td>0</td>\n",
       "      <td>310</td>\n",
       "      <td>910</td>\n",
       "    </tr>\n",
       "  </tbody>\n",
       "</table>\n",
       "</div>"
      ],
      "text/plain": [
       "   status  seniority  home  time  age  marital  records  job  expenses  \\\n",
       "0       1          9     1    60   30        2        1    3        73   \n",
       "1       1         17     1    60   58        3        1    1        48   \n",
       "2       2         10     2    36   46        2        2    3        90   \n",
       "3       1          0     1    60   24        1        1    1        63   \n",
       "4       1          0     1    36   26        1        1    1        46   \n",
       "\n",
       "   income  assets  debt  amount  price  \n",
       "0     129       0     0     800    846  \n",
       "1     131       0     0    1000   1658  \n",
       "2     200    3000     0    2000   2985  \n",
       "3     182    2500     0     900   1325  \n",
       "4     107       0     0     310    910  "
      ]
     },
     "execution_count": 5,
     "metadata": {},
     "output_type": "execute_result"
    }
   ],
   "source": [
    "data.head()"
   ]
  },
  {
   "cell_type": "code",
   "execution_count": 6,
   "id": "f3cc62ec",
   "metadata": {},
   "outputs": [
    {
     "data": {
      "text/html": [
       "<div>\n",
       "<style scoped>\n",
       "    .dataframe tbody tr th:only-of-type {\n",
       "        vertical-align: middle;\n",
       "    }\n",
       "\n",
       "    .dataframe tbody tr th {\n",
       "        vertical-align: top;\n",
       "    }\n",
       "\n",
       "    .dataframe thead th {\n",
       "        text-align: right;\n",
       "    }\n",
       "</style>\n",
       "<table border=\"1\" class=\"dataframe\">\n",
       "  <thead>\n",
       "    <tr style=\"text-align: right;\">\n",
       "      <th></th>\n",
       "      <th>status</th>\n",
       "      <th>seniority</th>\n",
       "      <th>home</th>\n",
       "      <th>time</th>\n",
       "      <th>age</th>\n",
       "      <th>marital</th>\n",
       "      <th>records</th>\n",
       "      <th>job</th>\n",
       "      <th>expenses</th>\n",
       "      <th>income</th>\n",
       "      <th>assets</th>\n",
       "      <th>debt</th>\n",
       "      <th>amount</th>\n",
       "      <th>price</th>\n",
       "    </tr>\n",
       "  </thead>\n",
       "  <tbody>\n",
       "    <tr>\n",
       "      <th>0</th>\n",
       "      <td>ok</td>\n",
       "      <td>9</td>\n",
       "      <td>1</td>\n",
       "      <td>60</td>\n",
       "      <td>30</td>\n",
       "      <td>2</td>\n",
       "      <td>1</td>\n",
       "      <td>3</td>\n",
       "      <td>73</td>\n",
       "      <td>129</td>\n",
       "      <td>0</td>\n",
       "      <td>0</td>\n",
       "      <td>800</td>\n",
       "      <td>846</td>\n",
       "    </tr>\n",
       "    <tr>\n",
       "      <th>1</th>\n",
       "      <td>ok</td>\n",
       "      <td>17</td>\n",
       "      <td>1</td>\n",
       "      <td>60</td>\n",
       "      <td>58</td>\n",
       "      <td>3</td>\n",
       "      <td>1</td>\n",
       "      <td>1</td>\n",
       "      <td>48</td>\n",
       "      <td>131</td>\n",
       "      <td>0</td>\n",
       "      <td>0</td>\n",
       "      <td>1000</td>\n",
       "      <td>1658</td>\n",
       "    </tr>\n",
       "    <tr>\n",
       "      <th>2</th>\n",
       "      <td>default</td>\n",
       "      <td>10</td>\n",
       "      <td>2</td>\n",
       "      <td>36</td>\n",
       "      <td>46</td>\n",
       "      <td>2</td>\n",
       "      <td>2</td>\n",
       "      <td>3</td>\n",
       "      <td>90</td>\n",
       "      <td>200</td>\n",
       "      <td>3000</td>\n",
       "      <td>0</td>\n",
       "      <td>2000</td>\n",
       "      <td>2985</td>\n",
       "    </tr>\n",
       "    <tr>\n",
       "      <th>3</th>\n",
       "      <td>ok</td>\n",
       "      <td>0</td>\n",
       "      <td>1</td>\n",
       "      <td>60</td>\n",
       "      <td>24</td>\n",
       "      <td>1</td>\n",
       "      <td>1</td>\n",
       "      <td>1</td>\n",
       "      <td>63</td>\n",
       "      <td>182</td>\n",
       "      <td>2500</td>\n",
       "      <td>0</td>\n",
       "      <td>900</td>\n",
       "      <td>1325</td>\n",
       "    </tr>\n",
       "    <tr>\n",
       "      <th>4</th>\n",
       "      <td>ok</td>\n",
       "      <td>0</td>\n",
       "      <td>1</td>\n",
       "      <td>36</td>\n",
       "      <td>26</td>\n",
       "      <td>1</td>\n",
       "      <td>1</td>\n",
       "      <td>1</td>\n",
       "      <td>46</td>\n",
       "      <td>107</td>\n",
       "      <td>0</td>\n",
       "      <td>0</td>\n",
       "      <td>310</td>\n",
       "      <td>910</td>\n",
       "    </tr>\n",
       "    <tr>\n",
       "      <th>...</th>\n",
       "      <td>...</td>\n",
       "      <td>...</td>\n",
       "      <td>...</td>\n",
       "      <td>...</td>\n",
       "      <td>...</td>\n",
       "      <td>...</td>\n",
       "      <td>...</td>\n",
       "      <td>...</td>\n",
       "      <td>...</td>\n",
       "      <td>...</td>\n",
       "      <td>...</td>\n",
       "      <td>...</td>\n",
       "      <td>...</td>\n",
       "      <td>...</td>\n",
       "    </tr>\n",
       "    <tr>\n",
       "      <th>4450</th>\n",
       "      <td>default</td>\n",
       "      <td>1</td>\n",
       "      <td>1</td>\n",
       "      <td>60</td>\n",
       "      <td>39</td>\n",
       "      <td>2</td>\n",
       "      <td>1</td>\n",
       "      <td>1</td>\n",
       "      <td>69</td>\n",
       "      <td>92</td>\n",
       "      <td>0</td>\n",
       "      <td>0</td>\n",
       "      <td>900</td>\n",
       "      <td>1020</td>\n",
       "    </tr>\n",
       "    <tr>\n",
       "      <th>4451</th>\n",
       "      <td>ok</td>\n",
       "      <td>22</td>\n",
       "      <td>2</td>\n",
       "      <td>60</td>\n",
       "      <td>46</td>\n",
       "      <td>2</td>\n",
       "      <td>1</td>\n",
       "      <td>1</td>\n",
       "      <td>60</td>\n",
       "      <td>75</td>\n",
       "      <td>3000</td>\n",
       "      <td>600</td>\n",
       "      <td>950</td>\n",
       "      <td>1263</td>\n",
       "    </tr>\n",
       "    <tr>\n",
       "      <th>4452</th>\n",
       "      <td>default</td>\n",
       "      <td>0</td>\n",
       "      <td>2</td>\n",
       "      <td>24</td>\n",
       "      <td>37</td>\n",
       "      <td>2</td>\n",
       "      <td>1</td>\n",
       "      <td>2</td>\n",
       "      <td>60</td>\n",
       "      <td>90</td>\n",
       "      <td>3500</td>\n",
       "      <td>0</td>\n",
       "      <td>500</td>\n",
       "      <td>963</td>\n",
       "    </tr>\n",
       "    <tr>\n",
       "      <th>4453</th>\n",
       "      <td>ok</td>\n",
       "      <td>0</td>\n",
       "      <td>1</td>\n",
       "      <td>48</td>\n",
       "      <td>23</td>\n",
       "      <td>1</td>\n",
       "      <td>1</td>\n",
       "      <td>3</td>\n",
       "      <td>49</td>\n",
       "      <td>140</td>\n",
       "      <td>0</td>\n",
       "      <td>0</td>\n",
       "      <td>550</td>\n",
       "      <td>550</td>\n",
       "    </tr>\n",
       "    <tr>\n",
       "      <th>4454</th>\n",
       "      <td>ok</td>\n",
       "      <td>5</td>\n",
       "      <td>2</td>\n",
       "      <td>60</td>\n",
       "      <td>32</td>\n",
       "      <td>2</td>\n",
       "      <td>1</td>\n",
       "      <td>3</td>\n",
       "      <td>60</td>\n",
       "      <td>140</td>\n",
       "      <td>4000</td>\n",
       "      <td>1000</td>\n",
       "      <td>1350</td>\n",
       "      <td>1650</td>\n",
       "    </tr>\n",
       "  </tbody>\n",
       "</table>\n",
       "<p>4455 rows × 14 columns</p>\n",
       "</div>"
      ],
      "text/plain": [
       "       status  seniority  home  time  age  marital  records  job  expenses  \\\n",
       "0          ok          9     1    60   30        2        1    3        73   \n",
       "1          ok         17     1    60   58        3        1    1        48   \n",
       "2     default         10     2    36   46        2        2    3        90   \n",
       "3          ok          0     1    60   24        1        1    1        63   \n",
       "4          ok          0     1    36   26        1        1    1        46   \n",
       "...       ...        ...   ...   ...  ...      ...      ...  ...       ...   \n",
       "4450  default          1     1    60   39        2        1    1        69   \n",
       "4451       ok         22     2    60   46        2        1    1        60   \n",
       "4452  default          0     2    24   37        2        1    2        60   \n",
       "4453       ok          0     1    48   23        1        1    3        49   \n",
       "4454       ok          5     2    60   32        2        1    3        60   \n",
       "\n",
       "      income  assets  debt  amount  price  \n",
       "0        129       0     0     800    846  \n",
       "1        131       0     0    1000   1658  \n",
       "2        200    3000     0    2000   2985  \n",
       "3        182    2500     0     900   1325  \n",
       "4        107       0     0     310    910  \n",
       "...      ...     ...   ...     ...    ...  \n",
       "4450      92       0     0     900   1020  \n",
       "4451      75    3000   600     950   1263  \n",
       "4452      90    3500     0     500    963  \n",
       "4453     140       0     0     550    550  \n",
       "4454     140    4000  1000    1350   1650  \n",
       "\n",
       "[4455 rows x 14 columns]"
      ]
     },
     "execution_count": 6,
     "metadata": {},
     "output_type": "execute_result"
    }
   ],
   "source": [
    "#convert the numerical values to what they represent\n",
    "status_values ={\n",
    "    0:'unk',\n",
    "    1:'ok',\n",
    "    2:'default'\n",
    "    \n",
    "}\n",
    "data.status = data.status.map(status_values)\n",
    "data"
   ]
  },
  {
   "cell_type": "code",
   "execution_count": 7,
   "id": "433c6704",
   "metadata": {},
   "outputs": [],
   "source": [
    "home_values={\n",
    "    0:'Unk',\n",
    "    1:'rent',\n",
    "    2:'owner',\n",
    "    3:'private',\n",
    "    4:'ignore',\n",
    "    5:'parents',\n",
    "    6:'other' \n",
    "}\n",
    "data.home = data.home.map(home_values)\n",
    "marital_values={\n",
    "    0:'Unk',\n",
    "    1:'single',\n",
    "    2:'married',\n",
    "    3:'widow',\n",
    "    4:'separated',\n",
    "    5:'divorced'\n",
    "}\n",
    "data.marital = data.marital.map(marital_values)\n",
    "records_values={\n",
    "    0:'Unk',\n",
    "    1:'yes',\n",
    "    2:'no'\n",
    "\n",
    "}\n",
    "data.records = data.records.map(records_values)\n",
    "job_values={\n",
    "    0:'Unk',\n",
    "    1:'fixed',\n",
    "    2:'partime',\n",
    "    3:'freelance',\n",
    "    4:'others',\n",
    "    \n",
    "}\n",
    "data.job = data.job.map(job_values)"
   ]
  },
  {
   "cell_type": "code",
   "execution_count": 8,
   "id": "e2cd635b",
   "metadata": {},
   "outputs": [
    {
     "data": {
      "text/html": [
       "<div>\n",
       "<style scoped>\n",
       "    .dataframe tbody tr th:only-of-type {\n",
       "        vertical-align: middle;\n",
       "    }\n",
       "\n",
       "    .dataframe tbody tr th {\n",
       "        vertical-align: top;\n",
       "    }\n",
       "\n",
       "    .dataframe thead th {\n",
       "        text-align: right;\n",
       "    }\n",
       "</style>\n",
       "<table border=\"1\" class=\"dataframe\">\n",
       "  <thead>\n",
       "    <tr style=\"text-align: right;\">\n",
       "      <th></th>\n",
       "      <th>status</th>\n",
       "      <th>seniority</th>\n",
       "      <th>home</th>\n",
       "      <th>time</th>\n",
       "      <th>age</th>\n",
       "      <th>marital</th>\n",
       "      <th>records</th>\n",
       "      <th>job</th>\n",
       "      <th>expenses</th>\n",
       "      <th>income</th>\n",
       "      <th>assets</th>\n",
       "      <th>debt</th>\n",
       "      <th>amount</th>\n",
       "      <th>price</th>\n",
       "    </tr>\n",
       "  </thead>\n",
       "  <tbody>\n",
       "    <tr>\n",
       "      <th>0</th>\n",
       "      <td>ok</td>\n",
       "      <td>9</td>\n",
       "      <td>rent</td>\n",
       "      <td>60</td>\n",
       "      <td>30</td>\n",
       "      <td>married</td>\n",
       "      <td>yes</td>\n",
       "      <td>freelance</td>\n",
       "      <td>73</td>\n",
       "      <td>129</td>\n",
       "      <td>0</td>\n",
       "      <td>0</td>\n",
       "      <td>800</td>\n",
       "      <td>846</td>\n",
       "    </tr>\n",
       "    <tr>\n",
       "      <th>1</th>\n",
       "      <td>ok</td>\n",
       "      <td>17</td>\n",
       "      <td>rent</td>\n",
       "      <td>60</td>\n",
       "      <td>58</td>\n",
       "      <td>widow</td>\n",
       "      <td>yes</td>\n",
       "      <td>fixed</td>\n",
       "      <td>48</td>\n",
       "      <td>131</td>\n",
       "      <td>0</td>\n",
       "      <td>0</td>\n",
       "      <td>1000</td>\n",
       "      <td>1658</td>\n",
       "    </tr>\n",
       "    <tr>\n",
       "      <th>2</th>\n",
       "      <td>default</td>\n",
       "      <td>10</td>\n",
       "      <td>owner</td>\n",
       "      <td>36</td>\n",
       "      <td>46</td>\n",
       "      <td>married</td>\n",
       "      <td>no</td>\n",
       "      <td>freelance</td>\n",
       "      <td>90</td>\n",
       "      <td>200</td>\n",
       "      <td>3000</td>\n",
       "      <td>0</td>\n",
       "      <td>2000</td>\n",
       "      <td>2985</td>\n",
       "    </tr>\n",
       "    <tr>\n",
       "      <th>3</th>\n",
       "      <td>ok</td>\n",
       "      <td>0</td>\n",
       "      <td>rent</td>\n",
       "      <td>60</td>\n",
       "      <td>24</td>\n",
       "      <td>single</td>\n",
       "      <td>yes</td>\n",
       "      <td>fixed</td>\n",
       "      <td>63</td>\n",
       "      <td>182</td>\n",
       "      <td>2500</td>\n",
       "      <td>0</td>\n",
       "      <td>900</td>\n",
       "      <td>1325</td>\n",
       "    </tr>\n",
       "    <tr>\n",
       "      <th>4</th>\n",
       "      <td>ok</td>\n",
       "      <td>0</td>\n",
       "      <td>rent</td>\n",
       "      <td>36</td>\n",
       "      <td>26</td>\n",
       "      <td>single</td>\n",
       "      <td>yes</td>\n",
       "      <td>fixed</td>\n",
       "      <td>46</td>\n",
       "      <td>107</td>\n",
       "      <td>0</td>\n",
       "      <td>0</td>\n",
       "      <td>310</td>\n",
       "      <td>910</td>\n",
       "    </tr>\n",
       "  </tbody>\n",
       "</table>\n",
       "</div>"
      ],
      "text/plain": [
       "    status  seniority   home  time  age  marital records        job  expenses  \\\n",
       "0       ok          9   rent    60   30  married     yes  freelance        73   \n",
       "1       ok         17   rent    60   58    widow     yes      fixed        48   \n",
       "2  default         10  owner    36   46  married      no  freelance        90   \n",
       "3       ok          0   rent    60   24   single     yes      fixed        63   \n",
       "4       ok          0   rent    36   26   single     yes      fixed        46   \n",
       "\n",
       "   income  assets  debt  amount  price  \n",
       "0     129       0     0     800    846  \n",
       "1     131       0     0    1000   1658  \n",
       "2     200    3000     0    2000   2985  \n",
       "3     182    2500     0     900   1325  \n",
       "4     107       0     0     310    910  "
      ]
     },
     "execution_count": 8,
     "metadata": {},
     "output_type": "execute_result"
    }
   ],
   "source": [
    "data.head()"
   ]
  },
  {
   "cell_type": "code",
   "execution_count": 9,
   "id": "61c449e7",
   "metadata": {},
   "outputs": [
    {
     "data": {
      "text/html": [
       "<div>\n",
       "<style scoped>\n",
       "    .dataframe tbody tr th:only-of-type {\n",
       "        vertical-align: middle;\n",
       "    }\n",
       "\n",
       "    .dataframe tbody tr th {\n",
       "        vertical-align: top;\n",
       "    }\n",
       "\n",
       "    .dataframe thead th {\n",
       "        text-align: right;\n",
       "    }\n",
       "</style>\n",
       "<table border=\"1\" class=\"dataframe\">\n",
       "  <thead>\n",
       "    <tr style=\"text-align: right;\">\n",
       "      <th></th>\n",
       "      <th>seniority</th>\n",
       "      <th>time</th>\n",
       "      <th>age</th>\n",
       "      <th>expenses</th>\n",
       "      <th>income</th>\n",
       "      <th>assets</th>\n",
       "      <th>debt</th>\n",
       "      <th>amount</th>\n",
       "      <th>price</th>\n",
       "    </tr>\n",
       "  </thead>\n",
       "  <tbody>\n",
       "    <tr>\n",
       "      <th>count</th>\n",
       "      <td>4455.0</td>\n",
       "      <td>4455.0</td>\n",
       "      <td>4455.0</td>\n",
       "      <td>4455.0</td>\n",
       "      <td>4455.0</td>\n",
       "      <td>4455.0</td>\n",
       "      <td>4455.0</td>\n",
       "      <td>4455.0</td>\n",
       "      <td>4455.0</td>\n",
       "    </tr>\n",
       "    <tr>\n",
       "      <th>mean</th>\n",
       "      <td>8.0</td>\n",
       "      <td>46.0</td>\n",
       "      <td>37.0</td>\n",
       "      <td>56.0</td>\n",
       "      <td>763317.0</td>\n",
       "      <td>1060341.0</td>\n",
       "      <td>404382.0</td>\n",
       "      <td>1039.0</td>\n",
       "      <td>1463.0</td>\n",
       "    </tr>\n",
       "    <tr>\n",
       "      <th>std</th>\n",
       "      <td>8.0</td>\n",
       "      <td>15.0</td>\n",
       "      <td>11.0</td>\n",
       "      <td>20.0</td>\n",
       "      <td>8703625.0</td>\n",
       "      <td>10217569.0</td>\n",
       "      <td>6344253.0</td>\n",
       "      <td>475.0</td>\n",
       "      <td>628.0</td>\n",
       "    </tr>\n",
       "    <tr>\n",
       "      <th>min</th>\n",
       "      <td>0.0</td>\n",
       "      <td>6.0</td>\n",
       "      <td>18.0</td>\n",
       "      <td>35.0</td>\n",
       "      <td>0.0</td>\n",
       "      <td>0.0</td>\n",
       "      <td>0.0</td>\n",
       "      <td>100.0</td>\n",
       "      <td>105.0</td>\n",
       "    </tr>\n",
       "    <tr>\n",
       "      <th>25%</th>\n",
       "      <td>2.0</td>\n",
       "      <td>36.0</td>\n",
       "      <td>28.0</td>\n",
       "      <td>35.0</td>\n",
       "      <td>80.0</td>\n",
       "      <td>0.0</td>\n",
       "      <td>0.0</td>\n",
       "      <td>700.0</td>\n",
       "      <td>1118.0</td>\n",
       "    </tr>\n",
       "    <tr>\n",
       "      <th>50%</th>\n",
       "      <td>5.0</td>\n",
       "      <td>48.0</td>\n",
       "      <td>36.0</td>\n",
       "      <td>51.0</td>\n",
       "      <td>120.0</td>\n",
       "      <td>3500.0</td>\n",
       "      <td>0.0</td>\n",
       "      <td>1000.0</td>\n",
       "      <td>1400.0</td>\n",
       "    </tr>\n",
       "    <tr>\n",
       "      <th>75%</th>\n",
       "      <td>12.0</td>\n",
       "      <td>60.0</td>\n",
       "      <td>45.0</td>\n",
       "      <td>72.0</td>\n",
       "      <td>166.0</td>\n",
       "      <td>6000.0</td>\n",
       "      <td>0.0</td>\n",
       "      <td>1300.0</td>\n",
       "      <td>1692.0</td>\n",
       "    </tr>\n",
       "    <tr>\n",
       "      <th>max</th>\n",
       "      <td>48.0</td>\n",
       "      <td>72.0</td>\n",
       "      <td>68.0</td>\n",
       "      <td>180.0</td>\n",
       "      <td>99999999.0</td>\n",
       "      <td>99999999.0</td>\n",
       "      <td>99999999.0</td>\n",
       "      <td>5000.0</td>\n",
       "      <td>11140.0</td>\n",
       "    </tr>\n",
       "  </tbody>\n",
       "</table>\n",
       "</div>"
      ],
      "text/plain": [
       "       seniority    time     age  expenses      income      assets  \\\n",
       "count     4455.0  4455.0  4455.0    4455.0      4455.0      4455.0   \n",
       "mean         8.0    46.0    37.0      56.0    763317.0   1060341.0   \n",
       "std          8.0    15.0    11.0      20.0   8703625.0  10217569.0   \n",
       "min          0.0     6.0    18.0      35.0         0.0         0.0   \n",
       "25%          2.0    36.0    28.0      35.0        80.0         0.0   \n",
       "50%          5.0    48.0    36.0      51.0       120.0      3500.0   \n",
       "75%         12.0    60.0    45.0      72.0       166.0      6000.0   \n",
       "max         48.0    72.0    68.0     180.0  99999999.0  99999999.0   \n",
       "\n",
       "             debt  amount    price  \n",
       "count      4455.0  4455.0   4455.0  \n",
       "mean     404382.0  1039.0   1463.0  \n",
       "std     6344253.0   475.0    628.0  \n",
       "min           0.0   100.0    105.0  \n",
       "25%           0.0   700.0   1118.0  \n",
       "50%           0.0  1000.0   1400.0  \n",
       "75%           0.0  1300.0   1692.0  \n",
       "max    99999999.0  5000.0  11140.0  "
      ]
     },
     "execution_count": 9,
     "metadata": {},
     "output_type": "execute_result"
    }
   ],
   "source": [
    "data.describe().round()"
   ]
  },
  {
   "cell_type": "code",
   "execution_count": 10,
   "id": "dc976cbe",
   "metadata": {},
   "outputs": [
    {
     "name": "stdout",
     "output_type": "stream",
     "text": [
      "<class 'pandas.core.frame.DataFrame'>\n",
      "RangeIndex: 4455 entries, 0 to 4454\n",
      "Data columns (total 14 columns):\n",
      " #   Column     Non-Null Count  Dtype \n",
      "---  ------     --------------  ----- \n",
      " 0   status     4455 non-null   object\n",
      " 1   seniority  4455 non-null   int64 \n",
      " 2   home       4455 non-null   object\n",
      " 3   time       4455 non-null   int64 \n",
      " 4   age        4455 non-null   int64 \n",
      " 5   marital    4455 non-null   object\n",
      " 6   records    4455 non-null   object\n",
      " 7   job        4455 non-null   object\n",
      " 8   expenses   4455 non-null   int64 \n",
      " 9   income     4455 non-null   int64 \n",
      " 10  assets     4455 non-null   int64 \n",
      " 11  debt       4455 non-null   int64 \n",
      " 12  amount     4455 non-null   int64 \n",
      " 13  price      4455 non-null   int64 \n",
      "dtypes: int64(9), object(5)\n",
      "memory usage: 487.4+ KB\n"
     ]
    }
   ],
   "source": [
    "data.info()"
   ]
  },
  {
   "cell_type": "code",
   "execution_count": 11,
   "id": "93cd2ed6",
   "metadata": {},
   "outputs": [],
   "source": [
    " # we see there are some 99999 values in max row. this means these columns have non values\n",
    "for i in ['income','assets','debt']:\n",
    "    data[i]=data[i].replace(to_replace=99999999, value=np.nan)"
   ]
  },
  {
   "cell_type": "code",
   "execution_count": 12,
   "id": "49dfb5d4",
   "metadata": {},
   "outputs": [
    {
     "data": {
      "text/html": [
       "<div>\n",
       "<style scoped>\n",
       "    .dataframe tbody tr th:only-of-type {\n",
       "        vertical-align: middle;\n",
       "    }\n",
       "\n",
       "    .dataframe tbody tr th {\n",
       "        vertical-align: top;\n",
       "    }\n",
       "\n",
       "    .dataframe thead th {\n",
       "        text-align: right;\n",
       "    }\n",
       "</style>\n",
       "<table border=\"1\" class=\"dataframe\">\n",
       "  <thead>\n",
       "    <tr style=\"text-align: right;\">\n",
       "      <th></th>\n",
       "      <th>seniority</th>\n",
       "      <th>time</th>\n",
       "      <th>age</th>\n",
       "      <th>expenses</th>\n",
       "      <th>income</th>\n",
       "      <th>assets</th>\n",
       "      <th>debt</th>\n",
       "      <th>amount</th>\n",
       "      <th>price</th>\n",
       "    </tr>\n",
       "  </thead>\n",
       "  <tbody>\n",
       "    <tr>\n",
       "      <th>count</th>\n",
       "      <td>4455.000000</td>\n",
       "      <td>4455.000000</td>\n",
       "      <td>4455.000000</td>\n",
       "      <td>4455.000000</td>\n",
       "      <td>4421.000000</td>\n",
       "      <td>4408.000000</td>\n",
       "      <td>4437.000000</td>\n",
       "      <td>4455.000000</td>\n",
       "      <td>4455.000000</td>\n",
       "    </tr>\n",
       "    <tr>\n",
       "      <th>mean</th>\n",
       "      <td>7.987205</td>\n",
       "      <td>46.441751</td>\n",
       "      <td>37.077666</td>\n",
       "      <td>55.568799</td>\n",
       "      <td>130.568197</td>\n",
       "      <td>5403.433984</td>\n",
       "      <td>342.948614</td>\n",
       "      <td>1039.021773</td>\n",
       "      <td>1462.875645</td>\n",
       "    </tr>\n",
       "    <tr>\n",
       "      <th>std</th>\n",
       "      <td>8.173444</td>\n",
       "      <td>14.655225</td>\n",
       "      <td>10.984856</td>\n",
       "      <td>19.515878</td>\n",
       "      <td>86.367434</td>\n",
       "      <td>11573.161523</td>\n",
       "      <td>1245.861736</td>\n",
       "      <td>474.543007</td>\n",
       "      <td>628.089913</td>\n",
       "    </tr>\n",
       "    <tr>\n",
       "      <th>min</th>\n",
       "      <td>0.000000</td>\n",
       "      <td>6.000000</td>\n",
       "      <td>18.000000</td>\n",
       "      <td>35.000000</td>\n",
       "      <td>0.000000</td>\n",
       "      <td>0.000000</td>\n",
       "      <td>0.000000</td>\n",
       "      <td>100.000000</td>\n",
       "      <td>105.000000</td>\n",
       "    </tr>\n",
       "    <tr>\n",
       "      <th>25%</th>\n",
       "      <td>2.000000</td>\n",
       "      <td>36.000000</td>\n",
       "      <td>28.000000</td>\n",
       "      <td>35.000000</td>\n",
       "      <td>80.000000</td>\n",
       "      <td>0.000000</td>\n",
       "      <td>0.000000</td>\n",
       "      <td>700.000000</td>\n",
       "      <td>1117.500000</td>\n",
       "    </tr>\n",
       "    <tr>\n",
       "      <th>50%</th>\n",
       "      <td>5.000000</td>\n",
       "      <td>48.000000</td>\n",
       "      <td>36.000000</td>\n",
       "      <td>51.000000</td>\n",
       "      <td>120.000000</td>\n",
       "      <td>3000.000000</td>\n",
       "      <td>0.000000</td>\n",
       "      <td>1000.000000</td>\n",
       "      <td>1400.000000</td>\n",
       "    </tr>\n",
       "    <tr>\n",
       "      <th>75%</th>\n",
       "      <td>12.000000</td>\n",
       "      <td>60.000000</td>\n",
       "      <td>45.000000</td>\n",
       "      <td>72.000000</td>\n",
       "      <td>165.000000</td>\n",
       "      <td>6000.000000</td>\n",
       "      <td>0.000000</td>\n",
       "      <td>1300.000000</td>\n",
       "      <td>1692.000000</td>\n",
       "    </tr>\n",
       "    <tr>\n",
       "      <th>max</th>\n",
       "      <td>48.000000</td>\n",
       "      <td>72.000000</td>\n",
       "      <td>68.000000</td>\n",
       "      <td>180.000000</td>\n",
       "      <td>959.000000</td>\n",
       "      <td>300000.000000</td>\n",
       "      <td>30000.000000</td>\n",
       "      <td>5000.000000</td>\n",
       "      <td>11140.000000</td>\n",
       "    </tr>\n",
       "  </tbody>\n",
       "</table>\n",
       "</div>"
      ],
      "text/plain": [
       "         seniority         time          age     expenses       income  \\\n",
       "count  4455.000000  4455.000000  4455.000000  4455.000000  4421.000000   \n",
       "mean      7.987205    46.441751    37.077666    55.568799   130.568197   \n",
       "std       8.173444    14.655225    10.984856    19.515878    86.367434   \n",
       "min       0.000000     6.000000    18.000000    35.000000     0.000000   \n",
       "25%       2.000000    36.000000    28.000000    35.000000    80.000000   \n",
       "50%       5.000000    48.000000    36.000000    51.000000   120.000000   \n",
       "75%      12.000000    60.000000    45.000000    72.000000   165.000000   \n",
       "max      48.000000    72.000000    68.000000   180.000000   959.000000   \n",
       "\n",
       "              assets          debt       amount         price  \n",
       "count    4408.000000   4437.000000  4455.000000   4455.000000  \n",
       "mean     5403.433984    342.948614  1039.021773   1462.875645  \n",
       "std     11573.161523   1245.861736   474.543007    628.089913  \n",
       "min         0.000000      0.000000   100.000000    105.000000  \n",
       "25%         0.000000      0.000000   700.000000   1117.500000  \n",
       "50%      3000.000000      0.000000  1000.000000   1400.000000  \n",
       "75%      6000.000000      0.000000  1300.000000   1692.000000  \n",
       "max    300000.000000  30000.000000  5000.000000  11140.000000  "
      ]
     },
     "execution_count": 12,
     "metadata": {},
     "output_type": "execute_result"
    }
   ],
   "source": [
    "data.describe()"
   ]
  },
  {
   "cell_type": "code",
   "execution_count": 13,
   "id": "b524c79a",
   "metadata": {},
   "outputs": [
    {
     "data": {
      "text/html": [
       "<div>\n",
       "<style scoped>\n",
       "    .dataframe tbody tr th:only-of-type {\n",
       "        vertical-align: middle;\n",
       "    }\n",
       "\n",
       "    .dataframe tbody tr th {\n",
       "        vertical-align: top;\n",
       "    }\n",
       "\n",
       "    .dataframe thead th {\n",
       "        text-align: right;\n",
       "    }\n",
       "</style>\n",
       "<table border=\"1\" class=\"dataframe\">\n",
       "  <thead>\n",
       "    <tr style=\"text-align: right;\">\n",
       "      <th></th>\n",
       "      <th>seniority</th>\n",
       "      <th>time</th>\n",
       "      <th>age</th>\n",
       "      <th>expenses</th>\n",
       "      <th>income</th>\n",
       "      <th>assets</th>\n",
       "      <th>debt</th>\n",
       "      <th>amount</th>\n",
       "      <th>price</th>\n",
       "    </tr>\n",
       "  </thead>\n",
       "  <tbody>\n",
       "    <tr>\n",
       "      <th>count</th>\n",
       "      <td>4455.0</td>\n",
       "      <td>4455.0</td>\n",
       "      <td>4455.0</td>\n",
       "      <td>4455.0</td>\n",
       "      <td>4421.0</td>\n",
       "      <td>4408.0</td>\n",
       "      <td>4437.0</td>\n",
       "      <td>4455.0</td>\n",
       "      <td>4455.0</td>\n",
       "    </tr>\n",
       "    <tr>\n",
       "      <th>mean</th>\n",
       "      <td>8.0</td>\n",
       "      <td>46.0</td>\n",
       "      <td>37.0</td>\n",
       "      <td>56.0</td>\n",
       "      <td>131.0</td>\n",
       "      <td>5403.0</td>\n",
       "      <td>343.0</td>\n",
       "      <td>1039.0</td>\n",
       "      <td>1463.0</td>\n",
       "    </tr>\n",
       "    <tr>\n",
       "      <th>std</th>\n",
       "      <td>8.0</td>\n",
       "      <td>15.0</td>\n",
       "      <td>11.0</td>\n",
       "      <td>20.0</td>\n",
       "      <td>86.0</td>\n",
       "      <td>11573.0</td>\n",
       "      <td>1246.0</td>\n",
       "      <td>475.0</td>\n",
       "      <td>628.0</td>\n",
       "    </tr>\n",
       "    <tr>\n",
       "      <th>min</th>\n",
       "      <td>0.0</td>\n",
       "      <td>6.0</td>\n",
       "      <td>18.0</td>\n",
       "      <td>35.0</td>\n",
       "      <td>0.0</td>\n",
       "      <td>0.0</td>\n",
       "      <td>0.0</td>\n",
       "      <td>100.0</td>\n",
       "      <td>105.0</td>\n",
       "    </tr>\n",
       "    <tr>\n",
       "      <th>25%</th>\n",
       "      <td>2.0</td>\n",
       "      <td>36.0</td>\n",
       "      <td>28.0</td>\n",
       "      <td>35.0</td>\n",
       "      <td>80.0</td>\n",
       "      <td>0.0</td>\n",
       "      <td>0.0</td>\n",
       "      <td>700.0</td>\n",
       "      <td>1118.0</td>\n",
       "    </tr>\n",
       "    <tr>\n",
       "      <th>50%</th>\n",
       "      <td>5.0</td>\n",
       "      <td>48.0</td>\n",
       "      <td>36.0</td>\n",
       "      <td>51.0</td>\n",
       "      <td>120.0</td>\n",
       "      <td>3000.0</td>\n",
       "      <td>0.0</td>\n",
       "      <td>1000.0</td>\n",
       "      <td>1400.0</td>\n",
       "    </tr>\n",
       "    <tr>\n",
       "      <th>75%</th>\n",
       "      <td>12.0</td>\n",
       "      <td>60.0</td>\n",
       "      <td>45.0</td>\n",
       "      <td>72.0</td>\n",
       "      <td>165.0</td>\n",
       "      <td>6000.0</td>\n",
       "      <td>0.0</td>\n",
       "      <td>1300.0</td>\n",
       "      <td>1692.0</td>\n",
       "    </tr>\n",
       "    <tr>\n",
       "      <th>max</th>\n",
       "      <td>48.0</td>\n",
       "      <td>72.0</td>\n",
       "      <td>68.0</td>\n",
       "      <td>180.0</td>\n",
       "      <td>959.0</td>\n",
       "      <td>300000.0</td>\n",
       "      <td>30000.0</td>\n",
       "      <td>5000.0</td>\n",
       "      <td>11140.0</td>\n",
       "    </tr>\n",
       "  </tbody>\n",
       "</table>\n",
       "</div>"
      ],
      "text/plain": [
       "       seniority    time     age  expenses  income    assets     debt  amount  \\\n",
       "count     4455.0  4455.0  4455.0    4455.0  4421.0    4408.0   4437.0  4455.0   \n",
       "mean         8.0    46.0    37.0      56.0   131.0    5403.0    343.0  1039.0   \n",
       "std          8.0    15.0    11.0      20.0    86.0   11573.0   1246.0   475.0   \n",
       "min          0.0     6.0    18.0      35.0     0.0       0.0      0.0   100.0   \n",
       "25%          2.0    36.0    28.0      35.0    80.0       0.0      0.0   700.0   \n",
       "50%          5.0    48.0    36.0      51.0   120.0    3000.0      0.0  1000.0   \n",
       "75%         12.0    60.0    45.0      72.0   165.0    6000.0      0.0  1300.0   \n",
       "max         48.0    72.0    68.0     180.0   959.0  300000.0  30000.0  5000.0   \n",
       "\n",
       "         price  \n",
       "count   4455.0  \n",
       "mean    1463.0  \n",
       "std      628.0  \n",
       "min      105.0  \n",
       "25%     1118.0  \n",
       "50%     1400.0  \n",
       "75%     1692.0  \n",
       "max    11140.0  "
      ]
     },
     "execution_count": 13,
     "metadata": {},
     "output_type": "execute_result"
    }
   ],
   "source": [
    "data.describe().round()"
   ]
  },
  {
   "cell_type": "code",
   "execution_count": 14,
   "id": "41f51432",
   "metadata": {},
   "outputs": [
    {
     "data": {
      "text/plain": [
       "ok         3200\n",
       "default    1254\n",
       "unk           1\n",
       "Name: status, dtype: int64"
      ]
     },
     "execution_count": 14,
     "metadata": {},
     "output_type": "execute_result"
    }
   ],
   "source": [
    "#look for target variable'status'\n",
    "data.status.value_counts()"
   ]
  },
  {
   "cell_type": "code",
   "execution_count": 15,
   "id": "c7014c3c",
   "metadata": {},
   "outputs": [],
   "source": [
    "#lets remove one unknown  values it is not for our datasets \n",
    "data=data[data['status']!='unk']"
   ]
  },
  {
   "cell_type": "code",
   "execution_count": 16,
   "id": "b03a2f35",
   "metadata": {},
   "outputs": [],
   "source": [
    "#lets splits data into train , test, validatin sets\n",
    "data_train_full, data_test = train_test_split(data,test_size=0.2, random_state=2)\n",
    "data_train, data_val =train_test_split(data_train_full,test_size=0.25, random_state=2)"
   ]
  },
  {
   "cell_type": "code",
   "execution_count": 17,
   "id": "bfafc35f",
   "metadata": {},
   "outputs": [
    {
     "name": "stdout",
     "output_type": "stream",
     "text": [
      "(2672, 891, 891)\n"
     ]
    }
   ],
   "source": [
    "print((len(data_train),len(data_val),len(data_test)))"
   ]
  },
  {
   "cell_type": "code",
   "execution_count": 18,
   "id": "4635e47d",
   "metadata": {},
   "outputs": [],
   "source": [
    "y_train = (data_train.status=='default').values\n",
    "y_val =(data_val.status=='default').values\n",
    "del(data_train['status'])\n",
    "del(data_val['status'])"
   ]
  },
  {
   "cell_type": "code",
   "execution_count": 19,
   "id": "9892ea97",
   "metadata": {},
   "outputs": [],
   "source": [
    "#prepare for X ,first we fill null values in columns\n",
    "data_train= data_train.fillna(0)\n",
    "data_val= data_val.fillna(0)"
   ]
  },
  {
   "cell_type": "code",
   "execution_count": 20,
   "id": "1b63c31c",
   "metadata": {},
   "outputs": [
    {
     "data": {
      "text/plain": [
       "{'seniority': 0,\n",
       " 'home': 'rent',\n",
       " 'time': 60,\n",
       " 'age': 27,\n",
       " 'marital': 'married',\n",
       " 'records': 'yes',\n",
       " 'job': 'fixed',\n",
       " 'expenses': 58,\n",
       " 'income': 133.0,\n",
       " 'assets': 0.0,\n",
       " 'debt': 0.0,\n",
       " 'amount': 400,\n",
       " 'price': 1136}"
      ]
     },
     "execution_count": 20,
     "metadata": {},
     "output_type": "execute_result"
    }
   ],
   "source": [
    "#do one hot encoding to our categorical variables\n",
    "train_dict= data_train.to_dict('records')\n",
    "val_dict = data_val.to_dict('records')\n",
    "train_dict[0]"
   ]
  },
  {
   "cell_type": "code",
   "execution_count": 21,
   "id": "aeeac8c3",
   "metadata": {},
   "outputs": [],
   "source": [
    "#use list of dictonaries to use in dictvectorzier\n",
    "dv = DictVectorizer(sparse = False)\n",
    "x_train = dv.fit_transform(train_dict)\n",
    "x_val = dv.transform(val_dict)"
   ]
  },
  {
   "cell_type": "markdown",
   "id": "dafcb749",
   "metadata": {},
   "source": [
    "# Decision Tree Classifier"
   ]
  },
  {
   "cell_type": "code",
   "execution_count": 22,
   "id": "15c2a186",
   "metadata": {},
   "outputs": [
    {
     "data": {
      "text/html": [
       "<style>#sk-container-id-1 {color: black;}#sk-container-id-1 pre{padding: 0;}#sk-container-id-1 div.sk-toggleable {background-color: white;}#sk-container-id-1 label.sk-toggleable__label {cursor: pointer;display: block;width: 100%;margin-bottom: 0;padding: 0.3em;box-sizing: border-box;text-align: center;}#sk-container-id-1 label.sk-toggleable__label-arrow:before {content: \"▸\";float: left;margin-right: 0.25em;color: #696969;}#sk-container-id-1 label.sk-toggleable__label-arrow:hover:before {color: black;}#sk-container-id-1 div.sk-estimator:hover label.sk-toggleable__label-arrow:before {color: black;}#sk-container-id-1 div.sk-toggleable__content {max-height: 0;max-width: 0;overflow: hidden;text-align: left;background-color: #f0f8ff;}#sk-container-id-1 div.sk-toggleable__content pre {margin: 0.2em;color: black;border-radius: 0.25em;background-color: #f0f8ff;}#sk-container-id-1 input.sk-toggleable__control:checked~div.sk-toggleable__content {max-height: 200px;max-width: 100%;overflow: auto;}#sk-container-id-1 input.sk-toggleable__control:checked~label.sk-toggleable__label-arrow:before {content: \"▾\";}#sk-container-id-1 div.sk-estimator input.sk-toggleable__control:checked~label.sk-toggleable__label {background-color: #d4ebff;}#sk-container-id-1 div.sk-label input.sk-toggleable__control:checked~label.sk-toggleable__label {background-color: #d4ebff;}#sk-container-id-1 input.sk-hidden--visually {border: 0;clip: rect(1px 1px 1px 1px);clip: rect(1px, 1px, 1px, 1px);height: 1px;margin: -1px;overflow: hidden;padding: 0;position: absolute;width: 1px;}#sk-container-id-1 div.sk-estimator {font-family: monospace;background-color: #f0f8ff;border: 1px dotted black;border-radius: 0.25em;box-sizing: border-box;margin-bottom: 0.5em;}#sk-container-id-1 div.sk-estimator:hover {background-color: #d4ebff;}#sk-container-id-1 div.sk-parallel-item::after {content: \"\";width: 100%;border-bottom: 1px solid gray;flex-grow: 1;}#sk-container-id-1 div.sk-label:hover label.sk-toggleable__label {background-color: #d4ebff;}#sk-container-id-1 div.sk-serial::before {content: \"\";position: absolute;border-left: 1px solid gray;box-sizing: border-box;top: 0;bottom: 0;left: 50%;z-index: 0;}#sk-container-id-1 div.sk-serial {display: flex;flex-direction: column;align-items: center;background-color: white;padding-right: 0.2em;padding-left: 0.2em;position: relative;}#sk-container-id-1 div.sk-item {position: relative;z-index: 1;}#sk-container-id-1 div.sk-parallel {display: flex;align-items: stretch;justify-content: center;background-color: white;position: relative;}#sk-container-id-1 div.sk-item::before, #sk-container-id-1 div.sk-parallel-item::before {content: \"\";position: absolute;border-left: 1px solid gray;box-sizing: border-box;top: 0;bottom: 0;left: 50%;z-index: -1;}#sk-container-id-1 div.sk-parallel-item {display: flex;flex-direction: column;z-index: 1;position: relative;background-color: white;}#sk-container-id-1 div.sk-parallel-item:first-child::after {align-self: flex-end;width: 50%;}#sk-container-id-1 div.sk-parallel-item:last-child::after {align-self: flex-start;width: 50%;}#sk-container-id-1 div.sk-parallel-item:only-child::after {width: 0;}#sk-container-id-1 div.sk-dashed-wrapped {border: 1px dashed gray;margin: 0 0.4em 0.5em 0.4em;box-sizing: border-box;padding-bottom: 0.4em;background-color: white;}#sk-container-id-1 div.sk-label label {font-family: monospace;font-weight: bold;display: inline-block;line-height: 1.2em;}#sk-container-id-1 div.sk-label-container {text-align: center;}#sk-container-id-1 div.sk-container {/* jupyter's `normalize.less` sets `[hidden] { display: none; }` but bootstrap.min.css set `[hidden] { display: none !important; }` so we also need the `!important` here to be able to override the default hidden behavior on the sphinx rendered scikit-learn.org. See: https://github.com/scikit-learn/scikit-learn/issues/21755 */display: inline-block !important;position: relative;}#sk-container-id-1 div.sk-text-repr-fallback {display: none;}</style><div id=\"sk-container-id-1\" class=\"sk-top-container\"><div class=\"sk-text-repr-fallback\"><pre>DecisionTreeClassifier()</pre><b>In a Jupyter environment, please rerun this cell to show the HTML representation or trust the notebook. <br />On GitHub, the HTML representation is unable to render, please try loading this page with nbviewer.org.</b></div><div class=\"sk-container\" hidden><div class=\"sk-item\"><div class=\"sk-estimator sk-toggleable\"><input class=\"sk-toggleable__control sk-hidden--visually\" id=\"sk-estimator-id-1\" type=\"checkbox\" checked><label for=\"sk-estimator-id-1\" class=\"sk-toggleable__label sk-toggleable__label-arrow\">DecisionTreeClassifier</label><div class=\"sk-toggleable__content\"><pre>DecisionTreeClassifier()</pre></div></div></div></div></div>"
      ],
      "text/plain": [
       "DecisionTreeClassifier()"
      ]
     },
     "execution_count": 22,
     "metadata": {},
     "output_type": "execute_result"
    }
   ],
   "source": [
    "dt= DecisionTreeClassifier()\n",
    "dt.fit(x_train , y_train)"
   ]
  },
  {
   "cell_type": "code",
   "execution_count": 23,
   "id": "fa5a39b0",
   "metadata": {},
   "outputs": [
    {
     "data": {
      "text/plain": [
       "1.0"
      ]
     },
     "execution_count": 23,
     "metadata": {},
     "output_type": "execute_result"
    }
   ],
   "source": [
    "# calculate auc score to evaluate model\n",
    "y_pred = dt.predict_proba(x_train)[:,1]\n",
    "roc_auc_score(y_train,y_pred)"
   ]
  },
  {
   "cell_type": "code",
   "execution_count": 24,
   "id": "4bcc0121",
   "metadata": {},
   "outputs": [
    {
     "data": {
      "text/plain": [
       "0.6359045471169085"
      ]
     },
     "execution_count": 24,
     "metadata": {},
     "output_type": "execute_result"
    }
   ],
   "source": [
    "y_pred = dt.predict_proba(x_val)[:,1]\n",
    "roc_auc_score(y_val,y_pred)"
   ]
  },
  {
   "cell_type": "code",
   "execution_count": 25,
   "id": "57aa7dd8",
   "metadata": {},
   "outputs": [],
   "source": [
    "# the auc score fell to 65% while predicting validation set , it isa a case of overfitting"
   ]
  },
  {
   "cell_type": "code",
   "execution_count": 26,
   "id": "649f9167",
   "metadata": {},
   "outputs": [
    {
     "data": {
      "text/html": [
       "<style>#sk-container-id-2 {color: black;}#sk-container-id-2 pre{padding: 0;}#sk-container-id-2 div.sk-toggleable {background-color: white;}#sk-container-id-2 label.sk-toggleable__label {cursor: pointer;display: block;width: 100%;margin-bottom: 0;padding: 0.3em;box-sizing: border-box;text-align: center;}#sk-container-id-2 label.sk-toggleable__label-arrow:before {content: \"▸\";float: left;margin-right: 0.25em;color: #696969;}#sk-container-id-2 label.sk-toggleable__label-arrow:hover:before {color: black;}#sk-container-id-2 div.sk-estimator:hover label.sk-toggleable__label-arrow:before {color: black;}#sk-container-id-2 div.sk-toggleable__content {max-height: 0;max-width: 0;overflow: hidden;text-align: left;background-color: #f0f8ff;}#sk-container-id-2 div.sk-toggleable__content pre {margin: 0.2em;color: black;border-radius: 0.25em;background-color: #f0f8ff;}#sk-container-id-2 input.sk-toggleable__control:checked~div.sk-toggleable__content {max-height: 200px;max-width: 100%;overflow: auto;}#sk-container-id-2 input.sk-toggleable__control:checked~label.sk-toggleable__label-arrow:before {content: \"▾\";}#sk-container-id-2 div.sk-estimator input.sk-toggleable__control:checked~label.sk-toggleable__label {background-color: #d4ebff;}#sk-container-id-2 div.sk-label input.sk-toggleable__control:checked~label.sk-toggleable__label {background-color: #d4ebff;}#sk-container-id-2 input.sk-hidden--visually {border: 0;clip: rect(1px 1px 1px 1px);clip: rect(1px, 1px, 1px, 1px);height: 1px;margin: -1px;overflow: hidden;padding: 0;position: absolute;width: 1px;}#sk-container-id-2 div.sk-estimator {font-family: monospace;background-color: #f0f8ff;border: 1px dotted black;border-radius: 0.25em;box-sizing: border-box;margin-bottom: 0.5em;}#sk-container-id-2 div.sk-estimator:hover {background-color: #d4ebff;}#sk-container-id-2 div.sk-parallel-item::after {content: \"\";width: 100%;border-bottom: 1px solid gray;flex-grow: 1;}#sk-container-id-2 div.sk-label:hover label.sk-toggleable__label {background-color: #d4ebff;}#sk-container-id-2 div.sk-serial::before {content: \"\";position: absolute;border-left: 1px solid gray;box-sizing: border-box;top: 0;bottom: 0;left: 50%;z-index: 0;}#sk-container-id-2 div.sk-serial {display: flex;flex-direction: column;align-items: center;background-color: white;padding-right: 0.2em;padding-left: 0.2em;position: relative;}#sk-container-id-2 div.sk-item {position: relative;z-index: 1;}#sk-container-id-2 div.sk-parallel {display: flex;align-items: stretch;justify-content: center;background-color: white;position: relative;}#sk-container-id-2 div.sk-item::before, #sk-container-id-2 div.sk-parallel-item::before {content: \"\";position: absolute;border-left: 1px solid gray;box-sizing: border-box;top: 0;bottom: 0;left: 50%;z-index: -1;}#sk-container-id-2 div.sk-parallel-item {display: flex;flex-direction: column;z-index: 1;position: relative;background-color: white;}#sk-container-id-2 div.sk-parallel-item:first-child::after {align-self: flex-end;width: 50%;}#sk-container-id-2 div.sk-parallel-item:last-child::after {align-self: flex-start;width: 50%;}#sk-container-id-2 div.sk-parallel-item:only-child::after {width: 0;}#sk-container-id-2 div.sk-dashed-wrapped {border: 1px dashed gray;margin: 0 0.4em 0.5em 0.4em;box-sizing: border-box;padding-bottom: 0.4em;background-color: white;}#sk-container-id-2 div.sk-label label {font-family: monospace;font-weight: bold;display: inline-block;line-height: 1.2em;}#sk-container-id-2 div.sk-label-container {text-align: center;}#sk-container-id-2 div.sk-container {/* jupyter's `normalize.less` sets `[hidden] { display: none; }` but bootstrap.min.css set `[hidden] { display: none !important; }` so we also need the `!important` here to be able to override the default hidden behavior on the sphinx rendered scikit-learn.org. See: https://github.com/scikit-learn/scikit-learn/issues/21755 */display: inline-block !important;position: relative;}#sk-container-id-2 div.sk-text-repr-fallback {display: none;}</style><div id=\"sk-container-id-2\" class=\"sk-top-container\"><div class=\"sk-text-repr-fallback\"><pre>DecisionTreeClassifier(max_depth=2)</pre><b>In a Jupyter environment, please rerun this cell to show the HTML representation or trust the notebook. <br />On GitHub, the HTML representation is unable to render, please try loading this page with nbviewer.org.</b></div><div class=\"sk-container\" hidden><div class=\"sk-item\"><div class=\"sk-estimator sk-toggleable\"><input class=\"sk-toggleable__control sk-hidden--visually\" id=\"sk-estimator-id-2\" type=\"checkbox\" checked><label for=\"sk-estimator-id-2\" class=\"sk-toggleable__label sk-toggleable__label-arrow\">DecisionTreeClassifier</label><div class=\"sk-toggleable__content\"><pre>DecisionTreeClassifier(max_depth=2)</pre></div></div></div></div></div>"
      ],
      "text/plain": [
       "DecisionTreeClassifier(max_depth=2)"
      ]
     },
     "execution_count": 26,
     "metadata": {},
     "output_type": "execute_result"
    }
   ],
   "source": [
    "# lets max_depth of our decision tree to reduce its complexity\n",
    "dt = DecisionTreeClassifier(max_depth = 2)\n",
    "dt.fit(x_train, y_train)"
   ]
  },
  {
   "cell_type": "code",
   "execution_count": 27,
   "id": "c49983aa",
   "metadata": {},
   "outputs": [
    {
     "name": "stdout",
     "output_type": "stream",
     "text": [
      "|--- seniority <= 2.50\n",
      "|   |--- job=fixed <= 0.50\n",
      "|   |   |--- class: True\n",
      "|   |--- job=fixed >  0.50\n",
      "|   |   |--- class: False\n",
      "|--- seniority >  2.50\n",
      "|   |--- records=no <= 0.50\n",
      "|   |   |--- class: False\n",
      "|   |--- records=no >  0.50\n",
      "|   |   |--- class: False\n",
      "\n"
     ]
    }
   ],
   "source": [
    "#visualize this tree\n",
    "tree_text = export_text(dt, feature_names= dv.feature_names_)\n",
    "print(tree_text)"
   ]
  },
  {
   "cell_type": "code",
   "execution_count": 28,
   "id": "ffd6e1b0",
   "metadata": {},
   "outputs": [
    {
     "name": "stdout",
     "output_type": "stream",
     "text": [
      "train auc score:0.7196853699496197\n",
      " validation auc score:0.726276971839571\n"
     ]
    }
   ],
   "source": [
    "#lets see auc score\n",
    "y_pred = dt.predict_proba(x_train)[:,1]\n",
    "auc_train = roc_auc_score(y_train,y_pred)\n",
    "y_pred = dt.predict_proba(x_val)[:,1]\n",
    "auc_val= roc_auc_score(y_val,y_pred)\n",
    "print(f'train auc score:{auc_train}\\n validation auc score:{auc_val}')"
   ]
  },
  {
   "cell_type": "code",
   "execution_count": 29,
   "id": "f7f409b9",
   "metadata": {},
   "outputs": [],
   "source": [
    "#here the train auc score dropped but validation auc score increased , this means \n",
    "# model isnot overfitting tha data"
   ]
  },
  {
   "cell_type": "code",
   "execution_count": 30,
   "id": "2dc64900",
   "metadata": {},
   "outputs": [
    {
     "name": "stdout",
     "output_type": "stream",
     "text": [
      "1 ---> 0.6442642935511398\n",
      "2 ---> 0.726276971839571\n",
      "3 ---> 0.7538004388638303\n",
      "4 ---> 0.7618188467633792\n",
      "5 ---> 0.7644794587346092\n",
      "6 ---> 0.7552602706326952\n",
      "7 ---> 0.7394246007558211\n",
      "8 ---> 0.7062812385712545\n",
      "9 ---> 0.7059642813604778\n",
      "10 ---> 0.6732811166646349\n",
      "15 ---> 0.6386291600633914\n",
      "20 ---> 0.6581890771668901\n",
      "None ---> 0.6260575399244179\n"
     ]
    }
   ],
   "source": [
    "# lets see from othe depths\n",
    "for a in [1,2,3,4,5,6,7,8,9,10,15,20,None]:\n",
    "    dt = DecisionTreeClassifier(max_depth =a)\n",
    "    dt.fit(x_train, y_train)\n",
    "    y_pred = dt.predict_proba(x_val)[:,1]\n",
    "    auc =roc_auc_score(y_val, y_pred)\n",
    "    print(f'{a} ---> {auc}')\n",
    "    \n",
    "  "
   ]
  },
  {
   "cell_type": "code",
   "execution_count": 31,
   "id": "0fbdbe3d",
   "metadata": {},
   "outputs": [
    {
     "name": "stdout",
     "output_type": "stream",
     "text": [
      "depth: 3\n",
      "1---> 0.754\n",
      "5---> 0.754\n",
      "10---> 0.754\n",
      "15---> 0.754\n",
      "20---> 0.754\n",
      "50---> 0.754\n",
      "100---> 0.732\n",
      "200---> 0.744\n",
      "\n",
      "depth: 4\n",
      "1---> 0.762\n",
      "5---> 0.762\n",
      "10---> 0.757\n",
      "15---> 0.757\n",
      "20---> 0.758\n",
      "50---> 0.772\n",
      "100---> 0.738\n",
      "200---> 0.744\n",
      "\n",
      "depth: 5\n",
      "1---> 0.764\n",
      "5---> 0.769\n",
      "10---> 0.769\n",
      "15---> 0.770\n",
      "20---> 0.767\n",
      "50---> 0.780\n",
      "100---> 0.748\n",
      "200---> 0.753\n",
      "\n"
     ]
    }
   ],
   "source": [
    "# here we see best three value of depth are 3,4,5\n",
    "\n",
    "\n",
    "# now check best value for parameters min_sample_leaf\n",
    "for a in [3,4,5]:\n",
    "    print('depth: %s' %a)\n",
    "    for s in [1,5,10,15,20,50,100,200]:\n",
    "        dt = DecisionTreeClassifier(max_depth =a, min_samples_leaf= s)\n",
    "        dt.fit(x_train,y_train)\n",
    "        y_pred = dt.predict_proba(x_val)[:,1]\n",
    "        auc = roc_auc_score(y_val, y_pred)\n",
    "        print('%s---> %.3f' %(s,auc))\n",
    "    print()"
   ]
  },
  {
   "cell_type": "code",
   "execution_count": 32,
   "id": "6be1f537",
   "metadata": {},
   "outputs": [],
   "source": [
    "# here we got max auc score (78%) can be achieved by depth =5 and sample leaf = 50\n"
   ]
  },
  {
   "cell_type": "code",
   "execution_count": 33,
   "id": "4fa84fc6",
   "metadata": {},
   "outputs": [
    {
     "data": {
      "text/html": [
       "<style>#sk-container-id-3 {color: black;}#sk-container-id-3 pre{padding: 0;}#sk-container-id-3 div.sk-toggleable {background-color: white;}#sk-container-id-3 label.sk-toggleable__label {cursor: pointer;display: block;width: 100%;margin-bottom: 0;padding: 0.3em;box-sizing: border-box;text-align: center;}#sk-container-id-3 label.sk-toggleable__label-arrow:before {content: \"▸\";float: left;margin-right: 0.25em;color: #696969;}#sk-container-id-3 label.sk-toggleable__label-arrow:hover:before {color: black;}#sk-container-id-3 div.sk-estimator:hover label.sk-toggleable__label-arrow:before {color: black;}#sk-container-id-3 div.sk-toggleable__content {max-height: 0;max-width: 0;overflow: hidden;text-align: left;background-color: #f0f8ff;}#sk-container-id-3 div.sk-toggleable__content pre {margin: 0.2em;color: black;border-radius: 0.25em;background-color: #f0f8ff;}#sk-container-id-3 input.sk-toggleable__control:checked~div.sk-toggleable__content {max-height: 200px;max-width: 100%;overflow: auto;}#sk-container-id-3 input.sk-toggleable__control:checked~label.sk-toggleable__label-arrow:before {content: \"▾\";}#sk-container-id-3 div.sk-estimator input.sk-toggleable__control:checked~label.sk-toggleable__label {background-color: #d4ebff;}#sk-container-id-3 div.sk-label input.sk-toggleable__control:checked~label.sk-toggleable__label {background-color: #d4ebff;}#sk-container-id-3 input.sk-hidden--visually {border: 0;clip: rect(1px 1px 1px 1px);clip: rect(1px, 1px, 1px, 1px);height: 1px;margin: -1px;overflow: hidden;padding: 0;position: absolute;width: 1px;}#sk-container-id-3 div.sk-estimator {font-family: monospace;background-color: #f0f8ff;border: 1px dotted black;border-radius: 0.25em;box-sizing: border-box;margin-bottom: 0.5em;}#sk-container-id-3 div.sk-estimator:hover {background-color: #d4ebff;}#sk-container-id-3 div.sk-parallel-item::after {content: \"\";width: 100%;border-bottom: 1px solid gray;flex-grow: 1;}#sk-container-id-3 div.sk-label:hover label.sk-toggleable__label {background-color: #d4ebff;}#sk-container-id-3 div.sk-serial::before {content: \"\";position: absolute;border-left: 1px solid gray;box-sizing: border-box;top: 0;bottom: 0;left: 50%;z-index: 0;}#sk-container-id-3 div.sk-serial {display: flex;flex-direction: column;align-items: center;background-color: white;padding-right: 0.2em;padding-left: 0.2em;position: relative;}#sk-container-id-3 div.sk-item {position: relative;z-index: 1;}#sk-container-id-3 div.sk-parallel {display: flex;align-items: stretch;justify-content: center;background-color: white;position: relative;}#sk-container-id-3 div.sk-item::before, #sk-container-id-3 div.sk-parallel-item::before {content: \"\";position: absolute;border-left: 1px solid gray;box-sizing: border-box;top: 0;bottom: 0;left: 50%;z-index: -1;}#sk-container-id-3 div.sk-parallel-item {display: flex;flex-direction: column;z-index: 1;position: relative;background-color: white;}#sk-container-id-3 div.sk-parallel-item:first-child::after {align-self: flex-end;width: 50%;}#sk-container-id-3 div.sk-parallel-item:last-child::after {align-self: flex-start;width: 50%;}#sk-container-id-3 div.sk-parallel-item:only-child::after {width: 0;}#sk-container-id-3 div.sk-dashed-wrapped {border: 1px dashed gray;margin: 0 0.4em 0.5em 0.4em;box-sizing: border-box;padding-bottom: 0.4em;background-color: white;}#sk-container-id-3 div.sk-label label {font-family: monospace;font-weight: bold;display: inline-block;line-height: 1.2em;}#sk-container-id-3 div.sk-label-container {text-align: center;}#sk-container-id-3 div.sk-container {/* jupyter's `normalize.less` sets `[hidden] { display: none; }` but bootstrap.min.css set `[hidden] { display: none !important; }` so we also need the `!important` here to be able to override the default hidden behavior on the sphinx rendered scikit-learn.org. See: https://github.com/scikit-learn/scikit-learn/issues/21755 */display: inline-block !important;position: relative;}#sk-container-id-3 div.sk-text-repr-fallback {display: none;}</style><div id=\"sk-container-id-3\" class=\"sk-top-container\"><div class=\"sk-text-repr-fallback\"><pre>DecisionTreeClassifier(max_depth=5, min_samples_leaf=50)</pre><b>In a Jupyter environment, please rerun this cell to show the HTML representation or trust the notebook. <br />On GitHub, the HTML representation is unable to render, please try loading this page with nbviewer.org.</b></div><div class=\"sk-container\" hidden><div class=\"sk-item\"><div class=\"sk-estimator sk-toggleable\"><input class=\"sk-toggleable__control sk-hidden--visually\" id=\"sk-estimator-id-3\" type=\"checkbox\" checked><label for=\"sk-estimator-id-3\" class=\"sk-toggleable__label sk-toggleable__label-arrow\">DecisionTreeClassifier</label><div class=\"sk-toggleable__content\"><pre>DecisionTreeClassifier(max_depth=5, min_samples_leaf=50)</pre></div></div></div></div></div>"
      ],
      "text/plain": [
       "DecisionTreeClassifier(max_depth=5, min_samples_leaf=50)"
      ]
     },
     "execution_count": 33,
     "metadata": {},
     "output_type": "execute_result"
    }
   ],
   "source": [
    "dt = DecisionTreeClassifier(max_depth=5 , min_samples_leaf = 50)\n",
    "dt.fit (x_train,y_train)"
   ]
  },
  {
   "cell_type": "markdown",
   "id": "f862c100",
   "metadata": {},
   "source": [
    "# Random Forest Classifier"
   ]
  },
  {
   "cell_type": "code",
   "execution_count": 34,
   "id": "1f9d68b1",
   "metadata": {},
   "outputs": [
    {
     "data": {
      "text/html": [
       "<style>#sk-container-id-4 {color: black;}#sk-container-id-4 pre{padding: 0;}#sk-container-id-4 div.sk-toggleable {background-color: white;}#sk-container-id-4 label.sk-toggleable__label {cursor: pointer;display: block;width: 100%;margin-bottom: 0;padding: 0.3em;box-sizing: border-box;text-align: center;}#sk-container-id-4 label.sk-toggleable__label-arrow:before {content: \"▸\";float: left;margin-right: 0.25em;color: #696969;}#sk-container-id-4 label.sk-toggleable__label-arrow:hover:before {color: black;}#sk-container-id-4 div.sk-estimator:hover label.sk-toggleable__label-arrow:before {color: black;}#sk-container-id-4 div.sk-toggleable__content {max-height: 0;max-width: 0;overflow: hidden;text-align: left;background-color: #f0f8ff;}#sk-container-id-4 div.sk-toggleable__content pre {margin: 0.2em;color: black;border-radius: 0.25em;background-color: #f0f8ff;}#sk-container-id-4 input.sk-toggleable__control:checked~div.sk-toggleable__content {max-height: 200px;max-width: 100%;overflow: auto;}#sk-container-id-4 input.sk-toggleable__control:checked~label.sk-toggleable__label-arrow:before {content: \"▾\";}#sk-container-id-4 div.sk-estimator input.sk-toggleable__control:checked~label.sk-toggleable__label {background-color: #d4ebff;}#sk-container-id-4 div.sk-label input.sk-toggleable__control:checked~label.sk-toggleable__label {background-color: #d4ebff;}#sk-container-id-4 input.sk-hidden--visually {border: 0;clip: rect(1px 1px 1px 1px);clip: rect(1px, 1px, 1px, 1px);height: 1px;margin: -1px;overflow: hidden;padding: 0;position: absolute;width: 1px;}#sk-container-id-4 div.sk-estimator {font-family: monospace;background-color: #f0f8ff;border: 1px dotted black;border-radius: 0.25em;box-sizing: border-box;margin-bottom: 0.5em;}#sk-container-id-4 div.sk-estimator:hover {background-color: #d4ebff;}#sk-container-id-4 div.sk-parallel-item::after {content: \"\";width: 100%;border-bottom: 1px solid gray;flex-grow: 1;}#sk-container-id-4 div.sk-label:hover label.sk-toggleable__label {background-color: #d4ebff;}#sk-container-id-4 div.sk-serial::before {content: \"\";position: absolute;border-left: 1px solid gray;box-sizing: border-box;top: 0;bottom: 0;left: 50%;z-index: 0;}#sk-container-id-4 div.sk-serial {display: flex;flex-direction: column;align-items: center;background-color: white;padding-right: 0.2em;padding-left: 0.2em;position: relative;}#sk-container-id-4 div.sk-item {position: relative;z-index: 1;}#sk-container-id-4 div.sk-parallel {display: flex;align-items: stretch;justify-content: center;background-color: white;position: relative;}#sk-container-id-4 div.sk-item::before, #sk-container-id-4 div.sk-parallel-item::before {content: \"\";position: absolute;border-left: 1px solid gray;box-sizing: border-box;top: 0;bottom: 0;left: 50%;z-index: -1;}#sk-container-id-4 div.sk-parallel-item {display: flex;flex-direction: column;z-index: 1;position: relative;background-color: white;}#sk-container-id-4 div.sk-parallel-item:first-child::after {align-self: flex-end;width: 50%;}#sk-container-id-4 div.sk-parallel-item:last-child::after {align-self: flex-start;width: 50%;}#sk-container-id-4 div.sk-parallel-item:only-child::after {width: 0;}#sk-container-id-4 div.sk-dashed-wrapped {border: 1px dashed gray;margin: 0 0.4em 0.5em 0.4em;box-sizing: border-box;padding-bottom: 0.4em;background-color: white;}#sk-container-id-4 div.sk-label label {font-family: monospace;font-weight: bold;display: inline-block;line-height: 1.2em;}#sk-container-id-4 div.sk-label-container {text-align: center;}#sk-container-id-4 div.sk-container {/* jupyter's `normalize.less` sets `[hidden] { display: none; }` but bootstrap.min.css set `[hidden] { display: none !important; }` so we also need the `!important` here to be able to override the default hidden behavior on the sphinx rendered scikit-learn.org. See: https://github.com/scikit-learn/scikit-learn/issues/21755 */display: inline-block !important;position: relative;}#sk-container-id-4 div.sk-text-repr-fallback {display: none;}</style><div id=\"sk-container-id-4\" class=\"sk-top-container\"><div class=\"sk-text-repr-fallback\"><pre>RandomForestClassifier(n_estimators=10)</pre><b>In a Jupyter environment, please rerun this cell to show the HTML representation or trust the notebook. <br />On GitHub, the HTML representation is unable to render, please try loading this page with nbviewer.org.</b></div><div class=\"sk-container\" hidden><div class=\"sk-item\"><div class=\"sk-estimator sk-toggleable\"><input class=\"sk-toggleable__control sk-hidden--visually\" id=\"sk-estimator-id-4\" type=\"checkbox\" checked><label for=\"sk-estimator-id-4\" class=\"sk-toggleable__label sk-toggleable__label-arrow\">RandomForestClassifier</label><div class=\"sk-toggleable__content\"><pre>RandomForestClassifier(n_estimators=10)</pre></div></div></div></div></div>"
      ],
      "text/plain": [
       "RandomForestClassifier(n_estimators=10)"
      ]
     },
     "execution_count": 34,
     "metadata": {},
     "output_type": "execute_result"
    }
   ],
   "source": [
    "rf= RandomForestClassifier(n_estimators = 10)\n",
    "rf.fit(x_train,y_train)"
   ]
  },
  {
   "cell_type": "code",
   "execution_count": 35,
   "id": "ec9bf66d",
   "metadata": {},
   "outputs": [
    {
     "data": {
      "text/plain": [
       "0.7605693039132025"
      ]
     },
     "execution_count": 35,
     "metadata": {},
     "output_type": "execute_result"
    }
   ],
   "source": [
    "#evaluation\n",
    "y_pred = rf.predict_proba(x_val)[:,1]\n",
    "roc_auc_score(y_val, y_pred)"
   ]
  },
  {
   "cell_type": "code",
   "execution_count": 36,
   "id": "b6de4656",
   "metadata": {},
   "outputs": [],
   "source": [
    "# auuc score = 79%  lets check for different values of n_estimators\n",
    "aucc=[]\n",
    "for n in range(10,201,10):\n",
    "    rf= RandomForestClassifier(n_estimators=n, random_state=3)\n",
    "    rf.fit(x_train,y_train)\n",
    "    y_pred = rf.predict_proba(x_val)[:,1]\n",
    "    auc= roc_auc_score(y_val, y_pred)\n",
    "    aucc.append(auc)"
   ]
  },
  {
   "cell_type": "code",
   "execution_count": 37,
   "id": "6802458d",
   "metadata": {},
   "outputs": [
    {
     "data": {
      "text/plain": [
       "Text(0, 0.5, 'AUCC')"
      ]
     },
     "execution_count": 37,
     "metadata": {},
     "output_type": "execute_result"
    },
    {
     "data": {
      "image/png": "[encoded data removed]",
      "text/plain": [
       "<Figure size 640x480 with 1 Axes>"
      ]
     },
     "metadata": {},
     "output_type": "display_data"
    }
   ],
   "source": [
    "plt.plot(range(10,201,10),aucc)\n",
    "plt.xlabel('n_estimators')\n",
    "plt.ylabel('AUCC')"
   ]
  },
  {
   "cell_type": "code",
   "execution_count": 38,
   "id": "6ac8ebb5",
   "metadata": {},
   "outputs": [
    {
     "name": "stdout",
     "output_type": "stream",
     "text": [
      "depth 5\n",
      "10 ---> 0.825\n",
      "20 ---> 0.829\n",
      "30 ---> 0.830\n",
      "40 ---> 0.833\n",
      "50 ---> 0.833\n",
      "60 ---> 0.834\n",
      "70 ---> 0.836\n",
      "80 ---> 0.836\n",
      "90 ---> 0.835\n",
      "100 ---> 0.836\n",
      "110 ---> 0.836\n",
      "120 ---> 0.835\n",
      "130 ---> 0.835\n",
      "140 ---> 0.834\n",
      "150 ---> 0.835\n",
      "160 ---> 0.835\n",
      "170 ---> 0.835\n",
      "180 ---> 0.836\n",
      "190 ---> 0.836\n",
      "200 ---> 0.837\n",
      "\n"
     ]
    }
   ],
   "source": [
    "# lets see tune the value for other parameter in random forestclassifier\n",
    "all_aucc = {}\n",
    "\n",
    "for a in range(5, 10, 20):\n",
    "    print('depth %s' % a)\n",
    "    aucc = []\n",
    "    for i in range(10, 201, 10):\n",
    "        rf = RandomForestClassifier(n_estimators=i, max_depth=a, random_state=1)\n",
    "        rf.fit(x_train, y_train)\n",
    "        y_pred = rf.predict_proba(x_val)[:,1]\n",
    "        auc = roc_auc_score(y_val, y_pred)\n",
    "        print('%s ---> %.3f' % (i, auc))\n",
    "        aucc.append(auc)\n",
    "\n",
    "    all_aucc[a] = aucc\n",
    "    print()"
   ]
  },
  {
   "cell_type": "code",
   "execution_count": 39,
   "id": "3ccaeac1",
   "metadata": {},
   "outputs": [
    {
     "name": "stdout",
     "output_type": "stream",
     "text": [
      "depth 5\n",
      "10 ---> 0.825\n",
      "20 ---> 0.829\n",
      "30 ---> 0.830\n",
      "40 ---> 0.833\n",
      "50 ---> 0.833\n",
      "60 ---> 0.834\n",
      "70 ---> 0.836\n",
      "80 ---> 0.836\n",
      "90 ---> 0.835\n",
      "100 ---> 0.836\n",
      "110 ---> 0.836\n",
      "120 ---> 0.835\n",
      "130 ---> 0.835\n",
      "140 ---> 0.834\n",
      "150 ---> 0.835\n",
      "160 ---> 0.835\n",
      "170 ---> 0.835\n",
      "180 ---> 0.836\n",
      "190 ---> 0.836\n",
      "200 ---> 0.837\n",
      "\n",
      "depth 10\n",
      "10 ---> 0.826\n",
      "20 ---> 0.828\n",
      "30 ---> 0.832\n",
      "40 ---> 0.834\n",
      "50 ---> 0.831\n",
      "60 ---> 0.832\n",
      "70 ---> 0.833\n",
      "80 ---> 0.832\n",
      "90 ---> 0.833\n",
      "100 ---> 0.832\n",
      "110 ---> 0.832\n",
      "120 ---> 0.832\n",
      "130 ---> 0.833\n",
      "140 ---> 0.832\n",
      "150 ---> 0.832\n",
      "160 ---> 0.833\n",
      "170 ---> 0.832\n",
      "180 ---> 0.832\n",
      "190 ---> 0.832\n",
      "200 ---> 0.832\n",
      "\n",
      "depth 15\n",
      "10 ---> 0.802\n",
      "20 ---> 0.809\n",
      "30 ---> 0.809\n",
      "40 ---> 0.815\n",
      "50 ---> 0.814\n",
      "60 ---> 0.817\n",
      "70 ---> 0.819\n",
      "80 ---> 0.820\n",
      "90 ---> 0.822\n",
      "100 ---> 0.822\n",
      "110 ---> 0.823\n",
      "120 ---> 0.824\n",
      "130 ---> 0.825\n",
      "140 ---> 0.824\n",
      "150 ---> 0.824\n",
      "160 ---> 0.824\n",
      "170 ---> 0.825\n",
      "180 ---> 0.824\n",
      "190 ---> 0.825\n",
      "200 ---> 0.825\n",
      "\n",
      "depth 20\n",
      "10 ---> 0.784\n",
      "20 ---> 0.815\n",
      "30 ---> 0.815\n",
      "40 ---> 0.819\n",
      "50 ---> 0.821\n",
      "60 ---> 0.823\n",
      "70 ---> 0.825\n",
      "80 ---> 0.826\n",
      "90 ---> 0.826\n",
      "100 ---> 0.825\n",
      "110 ---> 0.825\n",
      "120 ---> 0.826\n",
      "130 ---> 0.827\n",
      "140 ---> 0.826\n",
      "150 ---> 0.825\n",
      "160 ---> 0.824\n",
      "170 ---> 0.824\n",
      "180 ---> 0.825\n",
      "190 ---> 0.825\n",
      "200 ---> 0.825\n",
      "\n"
     ]
    }
   ],
   "source": [
    "\n",
    "all_aucc = {}\n",
    "\n",
    "for a in range(5, 21, 5):  # Adjust the range based on your requirement\n",
    "    print('depth %s' % a)\n",
    "    aucc = []\n",
    "    for i in range(10, 201, 10):\n",
    "        rf = RandomForestClassifier(n_estimators=i, max_depth=a, random_state=1)\n",
    "        rf.fit(x_train, y_train)\n",
    "        y_pred = rf.predict_proba(x_val)[:, 1]\n",
    "        auc = roc_auc_score(y_val, y_pred)\n",
    "        print('%s ---> %.3f' % (i, auc))\n",
    "        aucc.append(auc)\n",
    "\n",
    "    all_aucc[a] = aucc\n",
    "    print()"
   ]
  },
  {
   "cell_type": "code",
   "execution_count": 40,
   "id": "575464a2",
   "metadata": {},
   "outputs": [
    {
     "data": {
      "text/plain": [
       "<matplotlib.legend.Legend at 0x1a6737ea9e0>"
      ]
     },
     "execution_count": 40,
     "metadata": {},
     "output_type": "execute_result"
    },
    {
     "data": {
      "image/png": "[encoded data removed]",
      "text/plain": [
       "<Figure size 640x480 with 1 Axes>"
      ]
     },
     "metadata": {},
     "output_type": "display_data"
    }
   ],
   "source": [
    "num_trees = list(range(10,201,10))\n",
    "plt.plot(num_trees, all_aucc[5],label = 'depth=5')\n",
    "plt.plot(num_trees, all_aucc[10],label = 'depth=10')\n",
    "plt.plot(num_trees, all_aucc[15],label = 'depth=15')\n",
    "plt.plot(num_trees, all_aucc[20],label = 'depth=20')\n",
    "plt.title('No. of Estimators vs AUC')\n",
    "plt.xlabel('No. of Estimators')\n",
    "plt.ylabel('AUC')\n",
    "plt.legend()"
   ]
  },
  {
   "cell_type": "code",
   "execution_count": 41,
   "id": "c0469dd7",
   "metadata": {},
   "outputs": [
    {
     "name": "stdout",
     "output_type": "stream",
     "text": [
      "sample 3\n",
      "10---> 0.813\n",
      "20---> 0.823\n",
      "30---> 0.827\n",
      "40---> 0.828\n",
      "50---> 0.829\n",
      "60---> 0.832\n",
      "70---> 0.834\n",
      "80---> 0.834\n",
      "90---> 0.834\n",
      "100---> 0.834\n",
      "110---> 0.834\n",
      "120---> 0.833\n",
      "130---> 0.833\n",
      "140---> 0.833\n",
      "150---> 0.832\n",
      "160---> 0.833\n",
      "170---> 0.833\n",
      "180---> 0.833\n",
      "190---> 0.833\n",
      "200---> 0.833\n",
      "\n",
      "sample 5\n",
      "10---> 0.829\n",
      "20---> 0.830\n",
      "30---> 0.830\n",
      "40---> 0.833\n",
      "50---> 0.833\n",
      "60---> 0.834\n",
      "70---> 0.835\n",
      "80---> 0.834\n",
      "90---> 0.835\n",
      "100---> 0.835\n",
      "110---> 0.836\n",
      "120---> 0.836\n",
      "130---> 0.837\n",
      "140---> 0.837\n",
      "150---> 0.836\n",
      "160---> 0.837\n",
      "170---> 0.837\n",
      "180---> 0.837\n",
      "190---> 0.837\n",
      "200---> 0.837\n",
      "\n",
      "sample 10\n",
      "10---> 0.820\n",
      "20---> 0.834\n",
      "30---> 0.837\n",
      "40---> 0.838\n",
      "50---> 0.838\n",
      "60---> 0.839\n",
      "70---> 0.839\n",
      "80---> 0.839\n",
      "90---> 0.840\n",
      "100---> 0.840\n",
      "110---> 0.840\n",
      "120---> 0.839\n",
      "130---> 0.840\n",
      "140---> 0.840\n",
      "150---> 0.839\n",
      "160---> 0.839\n",
      "170---> 0.839\n",
      "180---> 0.839\n",
      "190---> 0.840\n",
      "200---> 0.840\n",
      "\n"
     ]
    }
   ],
   "source": [
    "# TUNE  min_samples_leaf\n",
    "all_aucc ={}\n",
    "\n",
    "for s in [3,5,10]:\n",
    "    print('sample %s' %s)\n",
    "    aucc=[]\n",
    "    for i in range(10,201,10):\n",
    "        rf = RandomForestClassifier(n_estimators=i, max_depth=10, min_samples_leaf=s, random_state= 1)\n",
    "        rf.fit(x_train, y_train)\n",
    "        y_pred = rf.predict_proba(x_val)[:,1]\n",
    "        auc = roc_auc_score(y_val, y_pred)\n",
    "        print('%s---> %.3f' %(i,auc))\n",
    "        aucc.append(auc)\n",
    "        \n",
    "    all_aucc[s]= aucc\n",
    "    print()\n",
    "        "
   ]
  },
  {
   "cell_type": "code",
   "execution_count": 42,
   "id": "7e1f5570",
   "metadata": {},
   "outputs": [
    {
     "data": {
      "text/plain": [
       "<matplotlib.legend.Legend at 0x1a676a77910>"
      ]
     },
     "execution_count": 42,
     "metadata": {},
     "output_type": "execute_result"
    },
    {
     "data": {
      "image/png": "[encoded data removed]",
      "text/plain": [
       "<Figure size 640x480 with 1 Axes>"
      ]
     },
     "metadata": {},
     "output_type": "display_data"
    }
   ],
   "source": [
    "num_trees = list(range(10,201,10))\n",
    "plt.plot(num_trees, all_aucc[3],label = 'depth=3')\n",
    "plt.plot(num_trees, all_aucc[5],label = 'depth=5')\n",
    "plt.plot(num_trees, all_aucc[10],label = 'depth=10')\n",
    "plt.title('No. of Estimators vs AUC')\n",
    "plt.xlabel('No. of Estimators')\n",
    "plt.ylabel('AUC')\n",
    "plt.legend()"
   ]
  },
  {
   "cell_type": "code",
   "execution_count": 43,
   "id": "baea4411",
   "metadata": {},
   "outputs": [
    {
     "data": {
      "text/html": [
       "<style>#sk-container-id-5 {color: black;}#sk-container-id-5 pre{padding: 0;}#sk-container-id-5 div.sk-toggleable {background-color: white;}#sk-container-id-5 label.sk-toggleable__label {cursor: pointer;display: block;width: 100%;margin-bottom: 0;padding: 0.3em;box-sizing: border-box;text-align: center;}#sk-container-id-5 label.sk-toggleable__label-arrow:before {content: \"▸\";float: left;margin-right: 0.25em;color: #696969;}#sk-container-id-5 label.sk-toggleable__label-arrow:hover:before {color: black;}#sk-container-id-5 div.sk-estimator:hover label.sk-toggleable__label-arrow:before {color: black;}#sk-container-id-5 div.sk-toggleable__content {max-height: 0;max-width: 0;overflow: hidden;text-align: left;background-color: #f0f8ff;}#sk-container-id-5 div.sk-toggleable__content pre {margin: 0.2em;color: black;border-radius: 0.25em;background-color: #f0f8ff;}#sk-container-id-5 input.sk-toggleable__control:checked~div.sk-toggleable__content {max-height: 200px;max-width: 100%;overflow: auto;}#sk-container-id-5 input.sk-toggleable__control:checked~label.sk-toggleable__label-arrow:before {content: \"▾\";}#sk-container-id-5 div.sk-estimator input.sk-toggleable__control:checked~label.sk-toggleable__label {background-color: #d4ebff;}#sk-container-id-5 div.sk-label input.sk-toggleable__control:checked~label.sk-toggleable__label {background-color: #d4ebff;}#sk-container-id-5 input.sk-hidden--visually {border: 0;clip: rect(1px 1px 1px 1px);clip: rect(1px, 1px, 1px, 1px);height: 1px;margin: -1px;overflow: hidden;padding: 0;position: absolute;width: 1px;}#sk-container-id-5 div.sk-estimator {font-family: monospace;background-color: #f0f8ff;border: 1px dotted black;border-radius: 0.25em;box-sizing: border-box;margin-bottom: 0.5em;}#sk-container-id-5 div.sk-estimator:hover {background-color: #d4ebff;}#sk-container-id-5 div.sk-parallel-item::after {content: \"\";width: 100%;border-bottom: 1px solid gray;flex-grow: 1;}#sk-container-id-5 div.sk-label:hover label.sk-toggleable__label {background-color: #d4ebff;}#sk-container-id-5 div.sk-serial::before {content: \"\";position: absolute;border-left: 1px solid gray;box-sizing: border-box;top: 0;bottom: 0;left: 50%;z-index: 0;}#sk-container-id-5 div.sk-serial {display: flex;flex-direction: column;align-items: center;background-color: white;padding-right: 0.2em;padding-left: 0.2em;position: relative;}#sk-container-id-5 div.sk-item {position: relative;z-index: 1;}#sk-container-id-5 div.sk-parallel {display: flex;align-items: stretch;justify-content: center;background-color: white;position: relative;}#sk-container-id-5 div.sk-item::before, #sk-container-id-5 div.sk-parallel-item::before {content: \"\";position: absolute;border-left: 1px solid gray;box-sizing: border-box;top: 0;bottom: 0;left: 50%;z-index: -1;}#sk-container-id-5 div.sk-parallel-item {display: flex;flex-direction: column;z-index: 1;position: relative;background-color: white;}#sk-container-id-5 div.sk-parallel-item:first-child::after {align-self: flex-end;width: 50%;}#sk-container-id-5 div.sk-parallel-item:last-child::after {align-self: flex-start;width: 50%;}#sk-container-id-5 div.sk-parallel-item:only-child::after {width: 0;}#sk-container-id-5 div.sk-dashed-wrapped {border: 1px dashed gray;margin: 0 0.4em 0.5em 0.4em;box-sizing: border-box;padding-bottom: 0.4em;background-color: white;}#sk-container-id-5 div.sk-label label {font-family: monospace;font-weight: bold;display: inline-block;line-height: 1.2em;}#sk-container-id-5 div.sk-label-container {text-align: center;}#sk-container-id-5 div.sk-container {/* jupyter's `normalize.less` sets `[hidden] { display: none; }` but bootstrap.min.css set `[hidden] { display: none !important; }` so we also need the `!important` here to be able to override the default hidden behavior on the sphinx rendered scikit-learn.org. See: https://github.com/scikit-learn/scikit-learn/issues/21755 */display: inline-block !important;position: relative;}#sk-container-id-5 div.sk-text-repr-fallback {display: none;}</style><div id=\"sk-container-id-5\" class=\"sk-top-container\"><div class=\"sk-text-repr-fallback\"><pre>RandomForestClassifier(max_depth=10, min_samples_leaf=10, n_estimators=200,\n",
       "                       random_state=1)</pre><b>In a Jupyter environment, please rerun this cell to show the HTML representation or trust the notebook. <br />On GitHub, the HTML representation is unable to render, please try loading this page with nbviewer.org.</b></div><div class=\"sk-container\" hidden><div class=\"sk-item\"><div class=\"sk-estimator sk-toggleable\"><input class=\"sk-toggleable__control sk-hidden--visually\" id=\"sk-estimator-id-5\" type=\"checkbox\" checked><label for=\"sk-estimator-id-5\" class=\"sk-toggleable__label sk-toggleable__label-arrow\">RandomForestClassifier</label><div class=\"sk-toggleable__content\"><pre>RandomForestClassifier(max_depth=10, min_samples_leaf=10, n_estimators=200,\n",
       "                       random_state=1)</pre></div></div></div></div></div>"
      ],
      "text/plain": [
       "RandomForestClassifier(max_depth=10, min_samples_leaf=10, n_estimators=200,\n",
       "                       random_state=1)"
      ]
     },
     "execution_count": 43,
     "metadata": {},
     "output_type": "execute_result"
    }
   ],
   "source": [
    "rf = RandomForestClassifier(n_estimators = 200, max_depth=10 , min_samples_leaf = 10, random_state= 1)\n",
    "rf.fit (x_train,y_train)"
   ]
  },
  {
   "cell_type": "markdown",
   "id": "dba2b2ad",
   "metadata": {},
   "source": [
    "# Gradient Boosting"
   ]
  },
  {
   "cell_type": "code",
   "execution_count": 44,
   "id": "fba7152c",
   "metadata": {},
   "outputs": [],
   "source": [
    "# we need to convert our train and val Dmatrix, a speacial datatype are used to give input to xgboost\n",
    "dtrain = xgb.DMatrix(x_train, label= y_train, feature_names= dv.feature_names_)\n",
    "dval = xgb.DMatrix(x_val, label =y_val, feature_names= dv.feature_names_)"
   ]
  },
  {
   "cell_type": "code",
   "execution_count": 45,
   "id": "c21daa02",
   "metadata": {},
   "outputs": [],
   "source": [
    "#look for parameter of xgb\n",
    "xgbparams = {\n",
    "    'eta':0.3,\n",
    "    'max_depth':6,\n",
    "    'min_child_weight': 1,\n",
    "    'objective':'binary:logistic',\n",
    "    'nthread':8,\n",
    "    'seed':1,\n",
    "    'verbosity': 1\n",
    "}"
   ]
  },
  {
   "cell_type": "code",
   "execution_count": 46,
   "id": "2e48f2d1",
   "metadata": {},
   "outputs": [],
   "source": [
    "#train our xgb mdel\n",
    "model = xgb.train(xgbparams, dtrain, num_boost_round=10)"
   ]
  },
  {
   "cell_type": "code",
   "execution_count": 47,
   "id": "1a5355fa",
   "metadata": {},
   "outputs": [
    {
     "data": {
      "text/plain": [
       "array([0.28043777, 0.24380125, 0.26210544, 0.95552224, 0.56928545,\n",
       "       0.24700896, 0.09100986, 0.16160275, 0.0702864 , 0.23438549],\n",
       "      dtype=float32)"
      ]
     },
     "execution_count": 47,
     "metadata": {},
     "output_type": "execute_result"
    }
   ],
   "source": [
    "y_pred = model.predict(dval)\n",
    "y_pred[:10]"
   ]
  },
  {
   "cell_type": "code",
   "execution_count": 48,
   "id": "c30b2217",
   "metadata": {},
   "outputs": [
    {
     "data": {
      "text/plain": [
       "0.8150128001950506"
      ]
     },
     "execution_count": 48,
     "metadata": {},
     "output_type": "execute_result"
    }
   ],
   "source": [
    "roc_auc_score(y_val, y_pred)"
   ]
  },
  {
   "cell_type": "code",
   "execution_count": 49,
   "id": "88e9b687",
   "metadata": {},
   "outputs": [],
   "source": [
    "# its good rslt but slightly worse than random forest"
   ]
  },
  {
   "cell_type": "markdown",
   "id": "3ddab791",
   "metadata": {},
   "source": [
    "# Evaluation"
   ]
  },
  {
   "cell_type": "code",
   "execution_count": 50,
   "id": "1cf14f6a",
   "metadata": {},
   "outputs": [],
   "source": [
    "watchlist= [(dtrain,'train'),(dval,'val')]\n",
    "xgbparams = {\n",
    "    'eta':0.3,\n",
    "    'max_depth':6,\n",
    "    'min_child_weight': 1,\n",
    "    'objective':'binary:logistic',\n",
    "    'eval_metric':'auc',\n",
    "    'nthread':8,\n",
    "    'seed':1,\n",
    "    'verbosity': 1\n",
    "}\n"
   ]
  },
  {
   "cell_type": "code",
   "execution_count": 51,
   "id": "4a12734c",
   "metadata": {},
   "outputs": [
    {
     "name": "stdout",
     "output_type": "stream",
     "text": [
      "[0]\ttrain-auc:0.86337\tval-auc:0.75843\n",
      "[10]\ttrain-auc:0.95617\tval-auc:0.81365\n",
      "[20]\ttrain-auc:0.97599\tval-auc:0.81353\n",
      "[30]\ttrain-auc:0.98541\tval-auc:0.81468\n",
      "[40]\ttrain-auc:0.99194\tval-auc:0.81180\n",
      "[50]\ttrain-auc:0.99687\tval-auc:0.80830\n",
      "[60]\ttrain-auc:0.99890\tval-auc:0.80824\n",
      "[70]\ttrain-auc:0.99964\tval-auc:0.80805\n",
      "[80]\ttrain-auc:0.99991\tval-auc:0.80920\n",
      "[90]\ttrain-auc:0.99998\tval-auc:0.80790\n",
      "[99]\ttrain-auc:1.00000\tval-auc:0.80760\n"
     ]
    }
   ],
   "source": [
    "#train the model\n",
    "model = xgb.train(xgbparams, dtrain, num_boost_round= 100, evals=watchlist, verbose_eval=10)"
   ]
  },
  {
   "cell_type": "code",
   "execution_count": 52,
   "id": "63fef283",
   "metadata": {},
   "outputs": [],
   "source": [
    "train_auc = [0.86337,0.95617,0.97599,0.98541,0.99194,0.99687,0.99890,0.99964,0.99991,0.99998,1.00000]\n",
    "val_auc = [0.75843,0.81365,0.81353,0.81468,0.81180,0.80830,0.80824,0.80805,0.80920,0.80790,0.80760]\n"
   ]
  },
  {
   "cell_type": "code",
   "execution_count": 53,
   "id": "7a1645e2",
   "metadata": {},
   "outputs": [
    {
     "data": {
      "text/plain": [
       "<matplotlib.legend.Legend at 0x1a676b22e90>"
      ]
     },
     "execution_count": 53,
     "metadata": {},
     "output_type": "execute_result"
    },
    {
     "data": {
      "image/png": "[encoded data removed]",
      "text/plain": [
       "<Figure size 640x480 with 1 Axes>"
      ]
     },
     "metadata": {},
     "output_type": "display_data"
    }
   ],
   "source": [
    "num_trees = np.arange(0,101,10)\n",
    "plt.plot(num_trees, train_auc,label = 'Train AUC')\n",
    "plt.plot(num_trees, val_auc ,label = 'validation AUC')\n",
    "plt.title('No. of treess vs AUC Score')\n",
    "plt.xlabel('No. of trees')\n",
    "plt.ylabel('AUC')\n",
    "plt.legend()"
   ]
  },
  {
   "cell_type": "code",
   "execution_count": 54,
   "id": "9578f224",
   "metadata": {},
   "outputs": [],
   "source": [
    "# as no. of trees increases the auc for training set also increases becoz each new tree learns \n",
    "# from the mistakes of previous tree but in valodation set for first 15 trees the auc increases but after that it doesnot change much it is overfitting\n"
   ]
  },
  {
   "cell_type": "markdown",
   "id": "c9ccbd96",
   "metadata": {},
   "source": [
    "# parameter tuning "
   ]
  },
  {
   "cell_type": "code",
   "execution_count": 55,
   "id": "e051430f",
   "metadata": {},
   "outputs": [
    {
     "name": "stdout",
     "output_type": "stream",
     "text": [
      "[0]\ttrain-auc:0.86337\tval-auc:0.75843\n",
      "[200]\ttrain-auc:1.00000\tval-auc:0.80641\n",
      "[400]\ttrain-auc:1.00000\tval-auc:0.80579\n",
      "[499]\ttrain-auc:1.00000\tval-auc:0.80592\n",
      "[0]\ttrain-auc:0.86337\tval-auc:0.75843\n",
      "[200]\ttrain-auc:0.98803\tval-auc:0.82093\n",
      "[400]\ttrain-auc:0.99821\tval-auc:0.81438\n",
      "[499]\ttrain-auc:0.99949\tval-auc:0.81260\n"
     ]
    },
    {
     "data": {
      "image/png": "[encoded data removed]",
      "text/plain": [
       "<Figure size 640x480 with 1 Axes>"
      ]
     },
     "metadata": {},
     "output_type": "display_data"
    }
   ],
   "source": [
    "#need to change 'eta' parameter as our  dataset is small, the eta value should be 0.1\n",
    "save = {}\n",
    "model = xgb.train(xgbparams, dtrain, num_boost_round= 500, verbose_eval=200,evals= watchlist,evals_result= save)\n",
    "num_trees = np.arange(0,500,10)\n",
    "fig, ax = plt.subplots()\n",
    "plt.plot(num_trees, save['val']['auc'][::10], label ='eta=0.3')\n",
    "\n",
    "\n",
    "xgbparams = {\n",
    "    'eta': 0.05,\n",
    "    'max_depth':6,\n",
    "    'min_child_weight': 1,\n",
    "    'objective':'binary:logistic',\n",
    "    'eval_metric':'auc',\n",
    "    'nthread':8,\n",
    "    'seed':1,\n",
    "    'verbosity': 1\n",
    "}\n",
    "\n",
    "\n",
    "model = xgb.train(xgbparams, dtrain, num_boost_round= 500, verbose_eval=200,evals= watchlist,evals_result= save)\n",
    "\n",
    "plt.plot(num_trees, save['val']['auc'][::10],label ='eta=0.05')\n",
    "plt.title('the effect of eta on model')\n",
    "plt.xlabel('No. of trees')\n",
    "plt.ylabel('AUC')\n",
    "plt.legend()\n",
    "plt.show()\n"
   ]
  },
  {
   "cell_type": "code",
   "execution_count": 56,
   "id": "ade786be",
   "metadata": {},
   "outputs": [
    {
     "name": "stdout",
     "output_type": "stream",
     "text": [
      "[0]\ttrain-auc:0.86337\tval-auc:0.75843\n",
      "[499]\ttrain-auc:0.99949\tval-auc:0.81260\n",
      "[0]\ttrain-auc:0.76838\tval-auc:0.74483\n",
      "[499]\ttrain-auc:0.94395\tval-auc:0.83130\n",
      "[0]\ttrain-auc:0.93212\tval-auc:0.75786\n",
      "[499]\ttrain-auc:1.00000\tval-auc:0.81282\n"
     ]
    },
    {
     "data": {
      "image/png": "[encoded data removed]",
      "text/plain": [
       "<Figure size 640x480 with 1 Axes>"
      ]
     },
     "metadata": {},
     "output_type": "display_data"
    }
   ],
   "source": [
    "#now tune max_depth, the defult value is 6 so we can try 3 an 10 as other values\n",
    "xgbparams['max_depth']=6\n",
    "model= xgb.train(xgbparams, dtrain, num_boost_round= 500, verbose_eval=500,evals= watchlist,evals_result= save)\n",
    "plt.plot(num_trees, save['val']['auc'][::10],label ='max_depth=6')\n",
    "xgbparams['max_depth']=3\n",
    "model= xgb.train(xgbparams, dtrain, num_boost_round= 500, verbose_eval=500,evals= watchlist,evals_result= save)\n",
    "plt.plot(num_trees, save['val']['auc'][::10],label ='max_depth=3')\n",
    "xgbparams['max_depth']=10\n",
    "model= xgb.train(xgbparams, dtrain, num_boost_round= 500, verbose_eval=500,evals= watchlist,evals_result= save)\n",
    "plt.plot(num_trees, save['val']['auc'][::10],label ='max_depth=10')\n",
    "plt.title('the effect of max_depth on model')\n",
    "plt.xlabel('No. of trees')\n",
    "plt.ylabel('AUC')\n",
    "plt.legend()\n",
    "plt.show()\n"
   ]
  },
  {
   "cell_type": "code",
   "execution_count": 57,
   "id": "308244d9",
   "metadata": {},
   "outputs": [
    {
     "name": "stdout",
     "output_type": "stream",
     "text": [
      "[0]\ttrain-auc:0.76838\tval-auc:0.74483\n",
      "[499]\ttrain-auc:0.93007\tval-auc:0.83693\n",
      "[0]\ttrain-auc:0.76784\tval-auc:0.73051\n",
      "[499]\ttrain-auc:0.90621\tval-auc:0.83997\n",
      "[0]\ttrain-auc:0.76838\tval-auc:0.74483\n",
      "[499]\ttrain-auc:0.94395\tval-auc:0.83130\n"
     ]
    },
    {
     "data": {
      "image/png": "[encoded data removed]",
      "text/plain": [
       "<Figure size 640x480 with 1 Axes>"
      ]
     },
     "metadata": {},
     "output_type": "display_data"
    }
   ],
   "source": [
    "#here we see the best value for depth is 3\n",
    "#now tune min_child_weight\n",
    "xgbparams['max_depth']=3\n",
    "xgbparams['min_child_weight']=10\n",
    "model= xgb.train(xgbparams, dtrain, num_boost_round= 500, verbose_eval=500,evals= watchlist,evals_result= save)\n",
    "plt.plot(num_trees, save['val']['auc'][::10],label ='min_child_weight=10')\n",
    "\n",
    "xgbparams['min_child_weight']=30\n",
    "model= xgb.train(xgbparams, dtrain, num_boost_round= 500, verbose_eval=500,evals= watchlist,evals_result= save)\n",
    "plt.plot(num_trees, save['val']['auc'][::10],label ='min_child_weight=30')\n",
    "\n",
    "xgbparams['min_child_weight']=1\n",
    "model= xgb.train(xgbparams, dtrain, num_boost_round= 500, verbose_eval=500,evals= watchlist,evals_result= save)\n",
    "plt.plot(num_trees, save['val']['auc'][::10],label ='min_child_weight=1')\n",
    "\n",
    "plt.title('the effect of min_child_weight on model')\n",
    "plt.xlabel('No. of trees')\n",
    "plt.ylabel('AUC')\n",
    "plt.legend()\n",
    "plt.show()"
   ]
  },
  {
   "cell_type": "code",
   "execution_count": 58,
   "id": "7ffc6eb2",
   "metadata": {},
   "outputs": [],
   "source": [
    "# there is no more difference so we will go with default value that is 1\n",
    "#so final parameters are \n",
    "xgbparams = {\n",
    "    'eta': 0.05,\n",
    "    'max_depth':3,\n",
    "    'min_child_weight': 1,\n",
    "    'objective':'binary:logistic',\n",
    "    'eval_metric':'auc',\n",
    "    'nthread':8,\n",
    "    'seed':1,\n",
    "    'verbosity': 1\n",
    "}"
   ]
  },
  {
   "cell_type": "code",
   "execution_count": 59,
   "id": "88917bbc",
   "metadata": {},
   "outputs": [
    {
     "name": "stdout",
     "output_type": "stream",
     "text": [
      "[0]\ttrain-auc:0.76838\tval-auc:0.74483\n",
      "[10]\ttrain-auc:0.82666\tval-auc:0.80956\n",
      "[20]\ttrain-auc:0.84490\tval-auc:0.81784\n",
      "[30]\ttrain-auc:0.85574\tval-auc:0.81982\n",
      "[40]\ttrain-auc:0.86535\tval-auc:0.82313\n",
      "[50]\ttrain-auc:0.87262\tval-auc:0.82537\n",
      "[60]\ttrain-auc:0.87826\tval-auc:0.82899\n",
      "[70]\ttrain-auc:0.88276\tval-auc:0.83072\n",
      "[80]\ttrain-auc:0.88709\tval-auc:0.83261\n",
      "[90]\ttrain-auc:0.89053\tval-auc:0.83390\n",
      "[100]\ttrain-auc:0.89336\tval-auc:0.83440\n",
      "[110]\ttrain-auc:0.89601\tval-auc:0.83437\n",
      "[120]\ttrain-auc:0.89825\tval-auc:0.83431\n",
      "[130]\ttrain-auc:0.90095\tval-auc:0.83510\n",
      "[140]\ttrain-auc:0.90354\tval-auc:0.83526\n",
      "[150]\ttrain-auc:0.90569\tval-auc:0.83539\n",
      "[160]\ttrain-auc:0.90781\tval-auc:0.83572\n",
      "[170]\ttrain-auc:0.90962\tval-auc:0.83553\n",
      "[180]\ttrain-auc:0.91129\tval-auc:0.83574\n",
      "[190]\ttrain-auc:0.91294\tval-auc:0.83552\n",
      "[200]\ttrain-auc:0.91456\tval-auc:0.83557\n",
      "[210]\ttrain-auc:0.91572\tval-auc:0.83514\n",
      "[220]\ttrain-auc:0.91726\tval-auc:0.83515\n",
      "[230]\ttrain-auc:0.91851\tval-auc:0.83558\n",
      "[240]\ttrain-auc:0.91984\tval-auc:0.83490\n",
      "[250]\ttrain-auc:0.92082\tval-auc:0.83478\n",
      "[260]\ttrain-auc:0.92209\tval-auc:0.83482\n",
      "[270]\ttrain-auc:0.92330\tval-auc:0.83479\n",
      "[280]\ttrain-auc:0.92406\tval-auc:0.83441\n",
      "[290]\ttrain-auc:0.92538\tval-auc:0.83409\n",
      "[300]\ttrain-auc:0.92667\tval-auc:0.83412\n",
      "[310]\ttrain-auc:0.92803\tval-auc:0.83404\n",
      "[320]\ttrain-auc:0.92894\tval-auc:0.83386\n",
      "[330]\ttrain-auc:0.92982\tval-auc:0.83377\n",
      "[340]\ttrain-auc:0.93070\tval-auc:0.83347\n",
      "[350]\ttrain-auc:0.93189\tval-auc:0.83296\n",
      "[360]\ttrain-auc:0.93283\tval-auc:0.83292\n",
      "[370]\ttrain-auc:0.93372\tval-auc:0.83258\n",
      "[380]\ttrain-auc:0.93460\tval-auc:0.83260\n",
      "[390]\ttrain-auc:0.93527\tval-auc:0.83237\n",
      "[400]\ttrain-auc:0.93616\tval-auc:0.83224\n",
      "[410]\ttrain-auc:0.93706\tval-auc:0.83188\n",
      "[420]\ttrain-auc:0.93794\tval-auc:0.83204\n",
      "[430]\ttrain-auc:0.93878\tval-auc:0.83199\n",
      "[440]\ttrain-auc:0.93959\tval-auc:0.83177\n",
      "[450]\ttrain-auc:0.94024\tval-auc:0.83199\n",
      "[460]\ttrain-auc:0.94113\tval-auc:0.83184\n",
      "[470]\ttrain-auc:0.94186\tval-auc:0.83162\n",
      "[480]\ttrain-auc:0.94289\tval-auc:0.83123\n",
      "[490]\ttrain-auc:0.94349\tval-auc:0.83137\n",
      "[499]\ttrain-auc:0.94395\tval-auc:0.83130\n"
     ]
    }
   ],
   "source": [
    "# still have to selected no. of trees\n",
    "model= xgb.train(xgbparams, dtrain, num_boost_round= 500, verbose_eval=10, evals= watchlist,evals_result= save)"
   ]
  },
  {
   "cell_type": "code",
   "execution_count": 60,
   "id": "00af28c5",
   "metadata": {},
   "outputs": [
    {
     "name": "stderr",
     "output_type": "stream",
     "text": [
      "No artists with labels found to put in legend.  Note that artists whose label start with an underscore are ignored when legend() is called with no argument.\n"
     ]
    },
    {
     "data": {
      "image/png": "[encoded data removed]",
      "text/plain": [
       "<Figure size 640x480 with 1 Axes>"
      ]
     },
     "metadata": {},
     "output_type": "display_data"
    }
   ],
   "source": [
    "plt.plot(num_trees, save['val']['auc'][::10])\n",
    "plt.axvline(x=save['val']['auc'].index(max(save['val']['auc'])), linestyle='dashed',color= 'red')\n",
    "plt.title('No.of trees vs Auc')\n",
    "plt.xlabel('No. of trees')\n",
    "plt.ylabel('AUC')\n",
    "plt.legend()\n",
    "plt.show()"
   ]
  },
  {
   "cell_type": "code",
   "execution_count": 61,
   "id": "007e21ca",
   "metadata": {},
   "outputs": [
    {
     "name": "stdout",
     "output_type": "stream",
     "text": [
      "[0]\ttrain-auc:0.76838\tval-auc:0.74483\n",
      "[1]\ttrain-auc:0.77896\tval-auc:0.75495\n",
      "[2]\ttrain-auc:0.78658\tval-auc:0.76133\n",
      "[3]\ttrain-auc:0.79182\tval-auc:0.77864\n",
      "[4]\ttrain-auc:0.80028\tval-auc:0.78609\n",
      "[5]\ttrain-auc:0.80635\tval-auc:0.79395\n",
      "[6]\ttrain-auc:0.81237\tval-auc:0.79866\n",
      "[7]\ttrain-auc:0.81415\tval-auc:0.80079\n",
      "[8]\ttrain-auc:0.81941\tval-auc:0.80607\n",
      "[9]\ttrain-auc:0.82663\tval-auc:0.80599\n",
      "[10]\ttrain-auc:0.82666\tval-auc:0.80956\n",
      "[11]\ttrain-auc:0.82972\tval-auc:0.81127\n",
      "[12]\ttrain-auc:0.83053\tval-auc:0.81195\n",
      "[13]\ttrain-auc:0.83475\tval-auc:0.81111\n",
      "[14]\ttrain-auc:0.83681\tval-auc:0.81305\n",
      "[15]\ttrain-auc:0.83909\tval-auc:0.81563\n",
      "[16]\ttrain-auc:0.84085\tval-auc:0.81385\n",
      "[17]\ttrain-auc:0.84101\tval-auc:0.81634\n",
      "[18]\ttrain-auc:0.84152\tval-auc:0.81764\n",
      "[19]\ttrain-auc:0.84317\tval-auc:0.81812\n",
      "[20]\ttrain-auc:0.84490\tval-auc:0.81784\n",
      "[21]\ttrain-auc:0.84735\tval-auc:0.81752\n",
      "[22]\ttrain-auc:0.84822\tval-auc:0.81790\n",
      "[23]\ttrain-auc:0.84873\tval-auc:0.81680\n",
      "[24]\ttrain-auc:0.85154\tval-auc:0.81787\n",
      "[25]\ttrain-auc:0.85186\tval-auc:0.81766\n",
      "[26]\ttrain-auc:0.85250\tval-auc:0.81680\n",
      "[27]\ttrain-auc:0.85307\tval-auc:0.81820\n",
      "[28]\ttrain-auc:0.85407\tval-auc:0.81838\n",
      "[29]\ttrain-auc:0.85483\tval-auc:0.81846\n",
      "[30]\ttrain-auc:0.85574\tval-auc:0.81982\n",
      "[31]\ttrain-auc:0.85710\tval-auc:0.81961\n",
      "[32]\ttrain-auc:0.85772\tval-auc:0.81997\n",
      "[33]\ttrain-auc:0.85916\tval-auc:0.82014\n",
      "[34]\ttrain-auc:0.85994\tval-auc:0.82103\n",
      "[35]\ttrain-auc:0.86050\tval-auc:0.82170\n",
      "[36]\ttrain-auc:0.86171\tval-auc:0.82129\n",
      "[37]\ttrain-auc:0.86207\tval-auc:0.82228\n",
      "[38]\ttrain-auc:0.86300\tval-auc:0.82192\n",
      "[39]\ttrain-auc:0.86418\tval-auc:0.82319\n",
      "[40]\ttrain-auc:0.86535\tval-auc:0.82313\n",
      "[41]\ttrain-auc:0.86599\tval-auc:0.82329\n",
      "[42]\ttrain-auc:0.86628\tval-auc:0.82433\n",
      "[43]\ttrain-auc:0.86694\tval-auc:0.82429\n",
      "[44]\ttrain-auc:0.86752\tval-auc:0.82512\n",
      "[45]\ttrain-auc:0.86838\tval-auc:0.82462\n",
      "[46]\ttrain-auc:0.86940\tval-auc:0.82515\n",
      "[47]\ttrain-auc:0.87002\tval-auc:0.82683\n",
      "[48]\ttrain-auc:0.87058\tval-auc:0.82627\n",
      "[49]\ttrain-auc:0.87184\tval-auc:0.82623\n",
      "[50]\ttrain-auc:0.87262\tval-auc:0.82537\n",
      "[51]\ttrain-auc:0.87312\tval-auc:0.82639\n",
      "[52]\ttrain-auc:0.87418\tval-auc:0.82677\n",
      "[53]\ttrain-auc:0.87485\tval-auc:0.82703\n",
      "[54]\ttrain-auc:0.87504\tval-auc:0.82766\n",
      "[55]\ttrain-auc:0.87592\tval-auc:0.82773\n",
      "[56]\ttrain-auc:0.87639\tval-auc:0.82772\n",
      "[57]\ttrain-auc:0.87672\tval-auc:0.82851\n",
      "[58]\ttrain-auc:0.87766\tval-auc:0.82853\n",
      "[59]\ttrain-auc:0.87808\tval-auc:0.82826\n",
      "[60]\ttrain-auc:0.87826\tval-auc:0.82899\n",
      "[61]\ttrain-auc:0.87895\tval-auc:0.82901\n",
      "[62]\ttrain-auc:0.87914\tval-auc:0.82984\n",
      "[63]\ttrain-auc:0.87989\tval-auc:0.82964\n",
      "[64]\ttrain-auc:0.88046\tval-auc:0.83002\n",
      "[65]\ttrain-auc:0.88066\tval-auc:0.83046\n",
      "[66]\ttrain-auc:0.88113\tval-auc:0.83049\n",
      "[67]\ttrain-auc:0.88160\tval-auc:0.82998\n",
      "[68]\ttrain-auc:0.88200\tval-auc:0.83001\n",
      "[69]\ttrain-auc:0.88211\tval-auc:0.83074\n",
      "[70]\ttrain-auc:0.88276\tval-auc:0.83072\n",
      "[71]\ttrain-auc:0.88336\tval-auc:0.83133\n",
      "[72]\ttrain-auc:0.88350\tval-auc:0.83178\n",
      "[73]\ttrain-auc:0.88390\tval-auc:0.83136\n",
      "[74]\ttrain-auc:0.88457\tval-auc:0.83153\n",
      "[75]\ttrain-auc:0.88486\tval-auc:0.83114\n",
      "[76]\ttrain-auc:0.88534\tval-auc:0.83139\n",
      "[77]\ttrain-auc:0.88580\tval-auc:0.83176\n",
      "[78]\ttrain-auc:0.88634\tval-auc:0.83207\n",
      "[79]\ttrain-auc:0.88658\tval-auc:0.83204\n",
      "[80]\ttrain-auc:0.88709\tval-auc:0.83261\n",
      "[81]\ttrain-auc:0.88757\tval-auc:0.83292\n",
      "[82]\ttrain-auc:0.88781\tval-auc:0.83260\n",
      "[83]\ttrain-auc:0.88832\tval-auc:0.83290\n",
      "[84]\ttrain-auc:0.88869\tval-auc:0.83286\n",
      "[85]\ttrain-auc:0.88894\tval-auc:0.83342\n",
      "[86]\ttrain-auc:0.88941\tval-auc:0.83366\n",
      "[87]\ttrain-auc:0.88959\tval-auc:0.83344\n",
      "[88]\ttrain-auc:0.89002\tval-auc:0.83321\n",
      "[89]\ttrain-auc:0.89012\tval-auc:0.83369\n",
      "[90]\ttrain-auc:0.89053\tval-auc:0.83390\n",
      "[91]\ttrain-auc:0.89074\tval-auc:0.83375\n",
      "[92]\ttrain-auc:0.89105\tval-auc:0.83369\n",
      "[93]\ttrain-auc:0.89118\tval-auc:0.83419\n",
      "[94]\ttrain-auc:0.89181\tval-auc:0.83416\n",
      "[95]\ttrain-auc:0.89196\tval-auc:0.83430\n",
      "[96]\ttrain-auc:0.89215\tval-auc:0.83397\n",
      "[97]\ttrain-auc:0.89243\tval-auc:0.83437\n",
      "[98]\ttrain-auc:0.89268\tval-auc:0.83437\n",
      "[99]\ttrain-auc:0.89308\tval-auc:0.83398\n",
      "[100]\ttrain-auc:0.89336\tval-auc:0.83440\n",
      "[101]\ttrain-auc:0.89366\tval-auc:0.83454\n",
      "[102]\ttrain-auc:0.89403\tval-auc:0.83443\n",
      "[103]\ttrain-auc:0.89431\tval-auc:0.83425\n",
      "[104]\ttrain-auc:0.89449\tval-auc:0.83437\n",
      "[105]\ttrain-auc:0.89462\tval-auc:0.83413\n",
      "[106]\ttrain-auc:0.89492\tval-auc:0.83456\n",
      "[107]\ttrain-auc:0.89509\tval-auc:0.83489\n",
      "[108]\ttrain-auc:0.89537\tval-auc:0.83449\n",
      "[109]\ttrain-auc:0.89569\tval-auc:0.83419\n",
      "[110]\ttrain-auc:0.89601\tval-auc:0.83437\n",
      "[111]\ttrain-auc:0.89619\tval-auc:0.83427\n",
      "[112]\ttrain-auc:0.89640\tval-auc:0.83399\n",
      "[113]\ttrain-auc:0.89671\tval-auc:0.83435\n",
      "[114]\ttrain-auc:0.89696\tval-auc:0.83453\n",
      "[115]\ttrain-auc:0.89716\tval-auc:0.83456\n",
      "[116]\ttrain-auc:0.89732\tval-auc:0.83438\n",
      "[117]\ttrain-auc:0.89756\tval-auc:0.83467\n",
      "[118]\ttrain-auc:0.89788\tval-auc:0.83455\n",
      "[119]\ttrain-auc:0.89801\tval-auc:0.83446\n",
      "[120]\ttrain-auc:0.89825\tval-auc:0.83431\n",
      "[121]\ttrain-auc:0.89839\tval-auc:0.83461\n",
      "[122]\ttrain-auc:0.89866\tval-auc:0.83504\n",
      "[123]\ttrain-auc:0.89894\tval-auc:0.83486\n",
      "[124]\ttrain-auc:0.89924\tval-auc:0.83502\n",
      "[125]\ttrain-auc:0.89952\tval-auc:0.83514\n",
      "[126]\ttrain-auc:0.89980\tval-auc:0.83494\n",
      "[127]\ttrain-auc:0.90022\tval-auc:0.83496\n",
      "[128]\ttrain-auc:0.90043\tval-auc:0.83474\n",
      "[129]\ttrain-auc:0.90067\tval-auc:0.83498\n",
      "[130]\ttrain-auc:0.90095\tval-auc:0.83510\n",
      "[131]\ttrain-auc:0.90119\tval-auc:0.83465\n",
      "[132]\ttrain-auc:0.90152\tval-auc:0.83471\n",
      "[133]\ttrain-auc:0.90196\tval-auc:0.83465\n",
      "[134]\ttrain-auc:0.90228\tval-auc:0.83482\n",
      "[135]\ttrain-auc:0.90257\tval-auc:0.83499\n",
      "[136]\ttrain-auc:0.90269\tval-auc:0.83539\n",
      "[137]\ttrain-auc:0.90286\tval-auc:0.83533\n",
      "[138]\ttrain-auc:0.90307\tval-auc:0.83513\n",
      "[139]\ttrain-auc:0.90327\tval-auc:0.83521\n",
      "[140]\ttrain-auc:0.90354\tval-auc:0.83526\n",
      "[141]\ttrain-auc:0.90372\tval-auc:0.83544\n",
      "[142]\ttrain-auc:0.90383\tval-auc:0.83537\n",
      "[143]\ttrain-auc:0.90392\tval-auc:0.83538\n",
      "[144]\ttrain-auc:0.90417\tval-auc:0.83581\n",
      "[145]\ttrain-auc:0.90431\tval-auc:0.83593\n",
      "[146]\ttrain-auc:0.90448\tval-auc:0.83588\n",
      "[147]\ttrain-auc:0.90478\tval-auc:0.83579\n",
      "[148]\ttrain-auc:0.90523\tval-auc:0.83576\n",
      "[149]\ttrain-auc:0.90536\tval-auc:0.83565\n"
     ]
    }
   ],
   "source": [
    "#max auc score is for no. of trees=150\n",
    "#now train our model finally\n",
    "model= xgb.train(xgbparams, dtrain, num_boost_round= 150, evals= watchlist,evals_result= save)"
   ]
  },
  {
   "cell_type": "code",
   "execution_count": 62,
   "id": "eec74eed",
   "metadata": {},
   "outputs": [],
   "source": [
    "y_test = (data_test.status == 'default').values\n",
    "del(data_test['status'])"
   ]
  },
  {
   "cell_type": "code",
   "execution_count": 63,
   "id": "469411ff",
   "metadata": {},
   "outputs": [],
   "source": [
    "data_test= data_test.fillna(0)\n",
    "test_dict = data_test.to_dict('records')"
   ]
  },
  {
   "cell_type": "code",
   "execution_count": 64,
   "id": "f880907c",
   "metadata": {},
   "outputs": [
    {
     "data": {
      "text/plain": [
       "array([3.900e+01, 1.000e+03, 3.000e+03, 0.000e+00, 4.500e+01, 0.000e+00,\n",
       "       0.000e+00, 0.000e+00, 1.000e+00, 0.000e+00, 0.000e+00, 0.000e+00,\n",
       "       9.500e+01, 0.000e+00, 0.000e+00, 1.000e+00, 0.000e+00, 0.000e+00,\n",
       "       0.000e+00, 0.000e+00, 1.000e+00, 0.000e+00, 0.000e+00, 0.000e+00,\n",
       "       1.058e+03, 0.000e+00, 1.000e+00, 1.000e+01, 6.000e+01])"
      ]
     },
     "execution_count": 64,
     "metadata": {},
     "output_type": "execute_result"
    }
   ],
   "source": [
    "x_test = dv.transform(test_dict)\n",
    "x_test[0]"
   ]
  },
  {
   "cell_type": "code",
   "execution_count": 65,
   "id": "dad4470d",
   "metadata": {},
   "outputs": [
    {
     "data": {
      "text/plain": [
       "0.7862066697362362"
      ]
     },
     "execution_count": 65,
     "metadata": {},
     "output_type": "execute_result"
    }
   ],
   "source": [
    "y_pred = dt.predict_proba(x_test)[:,1]\n",
    "auc_dt = roc_auc_score(y_test, y_pred)\n",
    "auc_dt"
   ]
  },
  {
   "cell_type": "code",
   "execution_count": 66,
   "id": "ef588b8b",
   "metadata": {},
   "outputs": [
    {
     "data": {
      "text/plain": [
       "0.8241070841281326"
      ]
     },
     "execution_count": 66,
     "metadata": {},
     "output_type": "execute_result"
    }
   ],
   "source": [
    "y_pred = rf.predict_proba(x_test)[:,1]\n",
    "auc_rf = roc_auc_score(y_test, y_pred)\n",
    "auc_rf"
   ]
  },
  {
   "cell_type": "code",
   "execution_count": 67,
   "id": "3d448313",
   "metadata": {},
   "outputs": [
    {
     "name": "stdout",
     "output_type": "stream",
     "text": [
      "AUC Score on Test Set: 0.830076300730119\n"
     ]
    }
   ],
   "source": [
    "dtest = xgb.DMatrix(x_test, label=y_test, feature_names=dv.feature_names_)\n",
    "y_pred = model.predict(dtest)\n",
    "auc_model = roc_auc_score(y_test, y_pred)\n",
    "print(\"AUC Score on Test Set:\", auc_model)"
   ]
  },
  {
   "cell_type": "code",
   "execution_count": 68,
   "id": "e3855c3a",
   "metadata": {},
   "outputs": [
    {
     "data": {
      "image/png": "[encoded data removed]",
      "text/plain": [
       "<Figure size 640x480 with 1 Axes>"
      ]
     },
     "metadata": {},
     "output_type": "display_data"
    }
   ],
   "source": [
    "# Assuming auc_dt, auc_rf, auc_model are the AUC scores for Decision Tree, Random Forest, and XGBoost respectively\n",
    "models = ['Decision Tree', 'Random Forest', 'XGBoost']\n",
    "auc_scores = [auc_dt, auc_rf, auc_model]\n",
    "\n",
    "# Create a DataFrame to pass to sns.barplot\n",
    "data = {'Model': models, 'AUC Score': auc_scores}\n",
    "df = pd.DataFrame(data)\n",
    "\n",
    "# Create a bar plot\n",
    "sns.barplot(x='Model', y='AUC Score', data=df)\n",
    "\n",
    "# Set plot labels and title\n",
    "plt.xlabel('Models')\n",
    "plt.ylabel('AUC Score')\n",
    "plt.title('Comparison of AUC Scores for Different Models')\n",
    "\n",
    "# Show the plot\n",
    "plt.show()"
   ]
  },
  {
   "cell_type": "code",
   "execution_count": 69,
   "id": "f2f98aca",
   "metadata": {},
   "outputs": [
    {
     "data": {
      "text/plain": [
       "<Axes: >"
      ]
     },
     "execution_count": 69,
     "metadata": {},
     "output_type": "execute_result"
    },
    {
     "data": {
      "image/png": "[encoded data removed]",
      "text/plain": [
       "<Figure size 640x480 with 2 Axes>"
      ]
     },
     "metadata": {},
     "output_type": "display_data"
    }
   ],
   "source": [
    "from sklearn.metrics import confusion_matrix,accuracy_score,mean_absolute_error,mean_squared_error,r2_score,log_loss,f1_score,jaccard_score\n",
    "y_predrfc = rf.predict(x_test)\n",
    "sns.heatmap(confusion_matrix(y_test,y_predrfc), annot=True, fmt='.0f')"
   ]
  },
  {
   "cell_type": "code",
   "execution_count": 70,
   "id": "65a06933",
   "metadata": {},
   "outputs": [],
   "source": [
    "# best model is xgboost\n",
    "#now lets save our model\n",
    "import pickle\n",
    "with open('model.pkl', 'wb') as file:\n",
    "    pickle.dump(model, file)\n",
    "    "
   ]
  },
  {
   "cell_type": "code",
   "execution_count": 71,
   "id": "67af9122",
   "metadata": {},
   "outputs": [],
   "source": [
    "import requests\n",
    "person = {'age': 41,\n",
    "         'amount': 1100,\n",
    "         'assests':4000.0,\n",
    "         'debt':30.0,\n",
    "         'expenses':75,\n",
    "         'income':80.0,\n",
    "         'home':'private',\n",
    "         'job':'partime',\n",
    "         'marital':'married',\n",
    "         'price':1409,\n",
    "         'records':'no',\n",
    "         'seniority': 1,\n",
    "         'status':'default',\n",
    "         'time':48}\n",
    "\n"
   ]
  },
  {
   "cell_type": "code",
   "execution_count": 72,
   "id": "13ba1d7a",
   "metadata": {},
   "outputs": [
    {
     "name": "stdout",
     "output_type": "stream",
     "text": [
      "Requirement already satisfied: flask in c:\\users\\acer\\anaconda3\\lib\\site-packages (2.2.2)\n",
      "Requirement already satisfied: Werkzeug>=2.2.2 in c:\\users\\acer\\anaconda3\\lib\\site-packages (from flask) (2.2.2)\n",
      "Requirement already satisfied: Jinja2>=3.0 in c:\\users\\acer\\anaconda3\\lib\\site-packages (from flask) (3.1.2)\n",
      "Requirement already satisfied: itsdangerous>=2.0 in c:\\users\\acer\\anaconda3\\lib\\site-packages (from flask) (2.0.1)\n",
      "Requirement already satisfied: click>=8.0 in c:\\users\\acer\\anaconda3\\lib\\site-packages (from flask) (8.0.4)\n",
      "Requirement already satisfied: colorama in c:\\users\\acer\\anaconda3\\lib\\site-packages (from click>=8.0->flask) (0.4.6)\n",
      "Requirement already satisfied: MarkupSafe>=2.0 in c:\\users\\acer\\anaconda3\\lib\\site-packages (from Jinja2>=3.0->flask) (2.1.1)\n"
     ]
    },
    {
     "name": "stderr",
     "output_type": "stream",
     "text": [
      "WARNING: Ignoring invalid distribution -umpy (c:\\users\\acer\\anaconda3\\lib\\site-packages)\n",
      "WARNING: Ignoring invalid distribution -cipy (c:\\users\\acer\\anaconda3\\lib\\site-packages)\n",
      "WARNING: Ignoring invalid distribution -umpy (c:\\users\\acer\\anaconda3\\lib\\site-packages)\n",
      "WARNING: Ignoring invalid distribution -cipy (c:\\users\\acer\\anaconda3\\lib\\site-packages)\n",
      "WARNING: Ignoring invalid distribution -umpy (c:\\users\\acer\\anaconda3\\lib\\site-packages)\n",
      "WARNING: Ignoring invalid distribution -cipy (c:\\users\\acer\\anaconda3\\lib\\site-packages)\n",
      "WARNING: Ignoring invalid distribution -umpy (c:\\users\\acer\\anaconda3\\lib\\site-packages)\n",
      "WARNING: Ignoring invalid distribution -cipy (c:\\users\\acer\\anaconda3\\lib\\site-packages)\n",
      "WARNING: Ignoring invalid distribution -umpy (c:\\users\\acer\\anaconda3\\lib\\site-packages)\n",
      "WARNING: Ignoring invalid distribution -cipy (c:\\users\\acer\\anaconda3\\lib\\site-packages)\n",
      "WARNING: Ignoring invalid distribution -umpy (c:\\users\\acer\\anaconda3\\lib\\site-packages)\n",
      "WARNING: Ignoring invalid distribution -cipy (c:\\users\\acer\\anaconda3\\lib\\site-packages)\n"
     ]
    }
   ],
   "source": [
    "!pip install flask"
   ]
  },
  {
   "cell_type": "code",
   "execution_count": 1,
   "id": "794a9366",
   "metadata": {},
   "outputs": [
    {
     "name": "stdout",
     "output_type": "stream",
     "text": [
      "2.2.2\n"
     ]
    }
   ],
   "source": [
    "import flask\n",
    "print(flask.__version__)"
   ]
  },
  {
   "cell_type": "code",
   "execution_count": 2,
   "id": "c7132d0e",
   "metadata": {},
   "outputs": [
    {
     "name": "stdout",
     "output_type": "stream",
     "text": [
      "Writing app.py\n"
     ]
    }
   ],
   "source": [
    "%%writefile app.py\n",
    "\n",
    "from flask import Flask, request, jsonify\n",
    "import pickle\n",
    "\n",
    "app = Flask(__name__)\n",
    "\n",
    "# Load the model\n",
    "with open('model.pkl', 'rb') as file:\n",
    "    model = pickle.load(file)\n",
    "\n",
    "@app.route('/')\n",
    "def home():\n",
    "    return 'Welcome to the model deployment page!'\n",
    "\n",
    "@app.route('/predict', methods=['POST'])\n",
    "def predict():\n",
    "    data = request.json\n",
    "    # Assuming data is a dictionary containing features for prediction\n",
    "    # For example: data = {'age': 41, 'amount': 1100, ...}\n",
    "\n",
    "    # Use the loaded model for prediction\n",
    "    result = model.predict(data)\n",
    "\n",
    "    # Return the result as JSON\n",
    "    return jsonify({'prediction': result.tolist()})\n",
    "\n",
    "if __name__ == '__main__':\n",
    "    app.run(port=5000)  # Adjust the port number as needed"
   ]
  },
  {
   "cell_type": "code",
   "execution_count": 3,
   "id": "70326f3f",
   "metadata": {},
   "outputs": [
    {
     "data": {
      "text/plain": [
       "'C:\\\\Users\\\\Acer'"
      ]
     },
     "execution_count": 3,
     "metadata": {},
     "output_type": "execute_result"
    }
   ],
   "source": [
    "import os\n",
    "os.getcwd()"
   ]
  },
  {
   "cell_type": "code",
   "execution_count": null,
   "id": "b9b070b1",
   "metadata": {},
   "outputs": [],
   "source": []
  }
 ],
 "metadata": {
  "kernelspec": {
   "display_name": "Python 3 (ipykernel)",
   "language": "python",
   "name": "python3"
  },
  "language_info": {
   "codemirror_mode": {
    "name": "ipython",
    "version": 3
   },
   "file_extension": ".py",
   "mimetype": "text/x-python",
   "name": "python",
   "nbconvert_exporter": "python",
   "pygments_lexer": "ipython3",
   "version": "3.10.13"
  }
 },
 "nbformat": 4,
 "nbformat_minor": 5
}
